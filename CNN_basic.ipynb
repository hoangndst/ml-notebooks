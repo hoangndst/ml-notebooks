{
  "cells": [
    {
      "cell_type": "markdown",
      "metadata": {
        "id": "view-in-github",
        "colab_type": "text"
      },
      "source": [
        "<a href=\"https://colab.research.google.com/github/hoangndst/ml-notebooks/blob/master/CNN_basic.ipynb\" target=\"_parent\"><img src=\"https://colab.research.google.com/assets/colab-badge.svg\" alt=\"Open In Colab\"/></a>"
      ]
    },
    {
      "cell_type": "code",
      "execution_count": null,
      "id": "0f181604",
      "metadata": {
        "id": "0f181604"
      },
      "outputs": [],
      "source": [
        "from torchvision import datasets # MNIST datasets\n",
        "from torchvision.transforms import ToTensor # transform PIL image to torch.Tensor\n",
        "from torch import nn # neural network library\n",
        "import torch\n",
        "import matplotlib.pyplot as plt # print image\n",
        "from torch.utils.data import DataLoader # mini-batch loader\n",
        "import torch.nn.functional as F\n",
        "import numpy as np\n",
        "import math"
      ]
    },
    {
      "cell_type": "code",
      "source": [
        "!nvidia-smi"
      ],
      "metadata": {
        "colab": {
          "base_uri": "https://localhost:8080/"
        },
        "id": "Ackh2VCMtZru",
        "outputId": "78393fc8-d46e-4897-989a-14758b78a4e0"
      },
      "id": "Ackh2VCMtZru",
      "execution_count": null,
      "outputs": [
        {
          "output_type": "stream",
          "name": "stdout",
          "text": [
            "Mon Oct 24 09:14:11 2022       \n",
            "+-----------------------------------------------------------------------------+\n",
            "| NVIDIA-SMI 460.32.03    Driver Version: 460.32.03    CUDA Version: 11.2     |\n",
            "|-------------------------------+----------------------+----------------------+\n",
            "| GPU  Name        Persistence-M| Bus-Id        Disp.A | Volatile Uncorr. ECC |\n",
            "| Fan  Temp  Perf  Pwr:Usage/Cap|         Memory-Usage | GPU-Util  Compute M. |\n",
            "|                               |                      |               MIG M. |\n",
            "|===============================+======================+======================|\n",
            "|   0  Tesla T4            Off  | 00000000:00:04.0 Off |                    0 |\n",
            "| N/A   70C    P8    11W /  70W |      0MiB / 15109MiB |      0%      Default |\n",
            "|                               |                      |                  N/A |\n",
            "+-------------------------------+----------------------+----------------------+\n",
            "                                                                               \n",
            "+-----------------------------------------------------------------------------+\n",
            "| Processes:                                                                  |\n",
            "|  GPU   GI   CI        PID   Type   Process name                  GPU Memory |\n",
            "|        ID   ID                                                   Usage      |\n",
            "|=============================================================================|\n",
            "|  No running processes found                                                 |\n",
            "+-----------------------------------------------------------------------------+\n"
          ]
        }
      ]
    },
    {
      "cell_type": "code",
      "execution_count": null,
      "id": "a3292d0e",
      "metadata": {
        "scrolled": true,
        "id": "a3292d0e",
        "colab": {
          "base_uri": "https://localhost:8080/",
          "height": 440,
          "referenced_widgets": [
            "35aa99c495c341e9adb2a7c481a98bd4",
            "70546ca1bc74462aaf7435d9c3f69ce3",
            "3f5922b5af5e4e72a3b76b9408e2dd43",
            "95cf4ce1da424949898e9787665bef88",
            "46b56e6008d04206a0947fcea7caa47d",
            "70c4b575997c4dfa800617e088e688df",
            "06aac50089e34c9cb513c6f0af1c348f",
            "1f2aa71c0fe64c3c9aee047f452fde6e",
            "184fd89f810d45ce8680b599b01330d0",
            "04e9001a1aea4fcebc2aded93dae5c48",
            "4ce06126c70444d99f74ec99288e5978",
            "661e050487a14570a8b143c23e0ac551",
            "97c5077649e74ceab0af22c7b2986bfc",
            "a1a903afb29d43c6993cd5ef22f20c17",
            "6e1dae74528940ffb620b249750c261d",
            "9f1ae5036f2b4960ac225acf6836f2ed",
            "4f82984c44d7483db950de8af409e24a",
            "3db36c6077b04680b16a0185b5e79594",
            "7fa0ee67f81c4a1c8add16eea6e2cfc4",
            "94f40119bfa146a2bc311e5dde55d1c5",
            "57642242a8334ef793c30b4300a7ec6e",
            "8bc630cb10d64e64a5cd67db6bd66f79",
            "fc1a4cb61a2d4f3b8d8aa9f2b47847bc",
            "89c394182bc540fb9211545faa283ac3",
            "f3132de106ec477ea1e65d82945c9a53",
            "c27848f08d9f43079b7769ae79ca6bf2",
            "2a85c6ddd7d344be9d7d9d4abe68b875",
            "25b2aeb711664186a32a1df3069a6123",
            "28bb28926e4945b7a34c1f63f7fa9064",
            "91e635fa50de44c99e0bfb468b5d848e",
            "4d1eaff616bb4c89a6f75f27dd6f4889",
            "a1750a65f92949abbe63d16821dd9f68",
            "66042da0eb564c909763f82b3211ae53",
            "2490f511b7744d1c8d4222f6f59a5e91",
            "4a765a06cb414bbf9101ace906858f01",
            "bc5faedbe27643049c461ddd45023ae9",
            "417d02ef853a4616af8bdc0b6be8d7a7",
            "729231928eb34f9f8ed9ec6d48a01e17",
            "6067028045ce4451959289fb7db544bb",
            "d9d0025fc9574a5495bec4979109593c",
            "2a7e332ed6d6454ab6c71a0b3d5dcbfe",
            "4d1ceff3d3dc4d1c9cc309ab491aa354",
            "c7e56ef969944699b0a20b7980fe1fbf",
            "9a92303eae574ae8aa8125a9c9c84e13"
          ]
        },
        "outputId": "b039c50d-1845-4ae0-a859-219ac0cbda01"
      },
      "outputs": [
        {
          "output_type": "stream",
          "name": "stdout",
          "text": [
            "Downloading http://yann.lecun.com/exdb/mnist/train-images-idx3-ubyte.gz\n",
            "Downloading http://yann.lecun.com/exdb/mnist/train-images-idx3-ubyte.gz to ./data/MNIST/raw/train-images-idx3-ubyte.gz\n"
          ]
        },
        {
          "output_type": "display_data",
          "data": {
            "text/plain": [
              "  0%|          | 0/9912422 [00:00<?, ?it/s]"
            ],
            "application/vnd.jupyter.widget-view+json": {
              "version_major": 2,
              "version_minor": 0,
              "model_id": "35aa99c495c341e9adb2a7c481a98bd4"
            }
          },
          "metadata": {}
        },
        {
          "output_type": "stream",
          "name": "stdout",
          "text": [
            "Extracting ./data/MNIST/raw/train-images-idx3-ubyte.gz to ./data/MNIST/raw\n",
            "\n",
            "Downloading http://yann.lecun.com/exdb/mnist/train-labels-idx1-ubyte.gz\n",
            "Downloading http://yann.lecun.com/exdb/mnist/train-labels-idx1-ubyte.gz to ./data/MNIST/raw/train-labels-idx1-ubyte.gz\n"
          ]
        },
        {
          "output_type": "display_data",
          "data": {
            "text/plain": [
              "  0%|          | 0/28881 [00:00<?, ?it/s]"
            ],
            "application/vnd.jupyter.widget-view+json": {
              "version_major": 2,
              "version_minor": 0,
              "model_id": "661e050487a14570a8b143c23e0ac551"
            }
          },
          "metadata": {}
        },
        {
          "output_type": "stream",
          "name": "stdout",
          "text": [
            "Extracting ./data/MNIST/raw/train-labels-idx1-ubyte.gz to ./data/MNIST/raw\n",
            "\n",
            "Downloading http://yann.lecun.com/exdb/mnist/t10k-images-idx3-ubyte.gz\n",
            "Downloading http://yann.lecun.com/exdb/mnist/t10k-images-idx3-ubyte.gz to ./data/MNIST/raw/t10k-images-idx3-ubyte.gz\n"
          ]
        },
        {
          "output_type": "display_data",
          "data": {
            "text/plain": [
              "  0%|          | 0/1648877 [00:00<?, ?it/s]"
            ],
            "application/vnd.jupyter.widget-view+json": {
              "version_major": 2,
              "version_minor": 0,
              "model_id": "fc1a4cb61a2d4f3b8d8aa9f2b47847bc"
            }
          },
          "metadata": {}
        },
        {
          "output_type": "stream",
          "name": "stdout",
          "text": [
            "Extracting ./data/MNIST/raw/t10k-images-idx3-ubyte.gz to ./data/MNIST/raw\n",
            "\n",
            "Downloading http://yann.lecun.com/exdb/mnist/t10k-labels-idx1-ubyte.gz\n",
            "Downloading http://yann.lecun.com/exdb/mnist/t10k-labels-idx1-ubyte.gz to ./data/MNIST/raw/t10k-labels-idx1-ubyte.gz\n"
          ]
        },
        {
          "output_type": "display_data",
          "data": {
            "text/plain": [
              "  0%|          | 0/4542 [00:00<?, ?it/s]"
            ],
            "application/vnd.jupyter.widget-view+json": {
              "version_major": 2,
              "version_minor": 0,
              "model_id": "2490f511b7744d1c8d4222f6f59a5e91"
            }
          },
          "metadata": {}
        },
        {
          "output_type": "stream",
          "name": "stdout",
          "text": [
            "Extracting ./data/MNIST/raw/t10k-labels-idx1-ubyte.gz to ./data/MNIST/raw\n",
            "\n",
            "train 60000 test 10000\n"
          ]
        }
      ],
      "source": [
        "# training set\n",
        "train_ds = datasets.MNIST('./data', train=True, download=True, transform=ToTensor())\n",
        "# test set\n",
        "test_ds = datasets.MNIST('./data', train=False, download=True, transform=ToTensor())\n",
        "\n",
        "print(f\"train {len(train_ds)} test {len(test_ds)}\")"
      ]
    },
    {
      "cell_type": "code",
      "execution_count": null,
      "id": "a8b6ac50",
      "metadata": {
        "id": "a8b6ac50",
        "colab": {
          "base_uri": "https://localhost:8080/"
        },
        "outputId": "68aea7c2-b3fc-45da-9cb2-e3172131d9a1"
      },
      "outputs": [
        {
          "output_type": "stream",
          "name": "stdout",
          "text": [
            "input type <class 'torch.Tensor'>\n",
            "input size torch.Size([1, 28, 28])\n",
            "output type <class 'int'>\n",
            "target 5\n"
          ]
        }
      ],
      "source": [
        "# the first training sample\n",
        "x, y = train_ds[0]\n",
        "print(\"input type\", type(x))\n",
        "print(\"input size\", x.shape)\n",
        "print(\"output type\", type(y))\n",
        "print(\"target\", y)"
      ]
    },
    {
      "cell_type": "code",
      "execution_count": null,
      "id": "80383cf1",
      "metadata": {
        "scrolled": true,
        "id": "80383cf1",
        "colab": {
          "base_uri": "https://localhost:8080/",
          "height": 543
        },
        "outputId": "80d8718f-dc02-4985-f87a-67290c3f32fe"
      },
      "outputs": [
        {
          "output_type": "display_data",
          "data": {
            "text/plain": [
              "<Figure size 1440x720 with 16 Axes>"
            ],
            "image/png": "[encoded data removed]"
          },
          "metadata": {
            "needs_background": "light"
          }
        }
      ],
      "source": [
        "# plot a grid of samples with targets\n",
        "def plot_grid(ds, n):\n",
        "    ncols = 8\n",
        "    nrows = n // ncols + 1\n",
        "    plt.subplots(nrows, ncols, figsize=(20, 10))\n",
        "    for i, (x, y) in enumerate(ds):\n",
        "        plt.subplot(nrows, ncols, i+1)\n",
        "        plt.imshow(x[0], cmap=\"gray\")\n",
        "        plt.title(f'y={y:01d}')\n",
        "        if i >= n: \n",
        "            break\n",
        "\n",
        "plot_grid(train_ds, 10)"
      ]
    },
    {
      "cell_type": "markdown",
      "id": "065561ae",
      "metadata": {
        "id": "065561ae"
      },
      "source": [
        "## CNN basic"
      ]
    },
    {
      "cell_type": "markdown",
      "source": [
        "![picture](https://drive.google.com/uc?id=1Jz1tllPTE9y4klj7zlMA0TwlAz6jAMYN)"
      ],
      "metadata": {
        "id": "NARL9qpGogSi"
      },
      "id": "NARL9qpGogSi"
    },
    {
      "cell_type": "code",
      "execution_count": null,
      "id": "86a61558",
      "metadata": {
        "id": "86a61558"
      },
      "outputs": [],
      "source": [
        "class CNN_Basic(nn.Module):\n",
        "    def __init__(self):\n",
        "        super(CNN_Basic, self).__init__()\n",
        "        self.conv1 = nn.Conv2d(1, 32, 3, 1, 1)\n",
        "        self.relu1 = nn.ReLU()\n",
        "        self.conv2 = nn.Conv2d(32, 64, 3, 1, 1)\n",
        "        self.relu2 = nn.ReLU()\n",
        "        self.dropout1 = nn.Dropout(0.25)\n",
        "        self.dropout2 = nn.Dropout(0.5)\n",
        "        self.fc1 = nn.Linear(3136, 128)\n",
        "        self.relu3 = nn.ReLU()\n",
        "        self.fc2 = nn.Linear(128, 10)\n",
        "\n",
        "    def forward(self, x):\n",
        "        x = self.conv1(x)\n",
        "        x = F.max_pool2d(x, 2)\n",
        "        x = self.relu1(x)\n",
        "        \n",
        "        x = self.conv2(x)\n",
        "        x = F.max_pool2d(x, 2)\n",
        "        x = self.relu2(x)\n",
        "        x = self.dropout1(x)\n",
        "        \n",
        "        x = torch.flatten(x, 1)\n",
        "        x = self.fc1(x)\n",
        "        x = self.relu3(x)\n",
        "        x = self.dropout2(x)\n",
        "        x = self.fc2(x)\n",
        "        return x"
      ]
    },
    {
      "cell_type": "code",
      "execution_count": null,
      "id": "168ef372",
      "metadata": {
        "id": "168ef372",
        "colab": {
          "base_uri": "https://localhost:8080/"
        },
        "outputId": "7b103fcb-914a-41d5-827f-79fd9e5dd3fb"
      },
      "outputs": [
        {
          "output_type": "stream",
          "name": "stdout",
          "text": [
            "Image batch dimensions: torch.Size([16, 1, 28, 28])\n",
            "Image label dimensions: torch.Size([16])\n"
          ]
        }
      ],
      "source": [
        "# user DataLoader to create mini-batch\n",
        "batch_size = 16\n",
        "\n",
        "# training dataloader (with shuffling)\n",
        "train_dataloader = DataLoader(train_ds, batch_size=batch_size, shuffle=True, num_workers=2)\n",
        "\n",
        "# test dataloader (no shuffling)\n",
        "test_dataloader = DataLoader(test_ds, batch_size=batch_size, shuffle=False, num_workers=2)\n",
        "\n",
        "# Checking the dataset\n",
        "for images, labels in train_dataloader:  \n",
        "    print('Image batch dimensions:', images.shape)\n",
        "    print('Image label dimensions:', labels.shape)\n",
        "    break"
      ]
    },
    {
      "cell_type": "code",
      "execution_count": null,
      "id": "2b9dec28",
      "metadata": {
        "id": "2b9dec28"
      },
      "outputs": [],
      "source": [
        "# test model with inputs\n",
        "model = CNN_Basic() # MLP\n",
        "\n",
        "# model = resnet18(num_classes=10, grayscale=True) # resnet\n",
        "\n",
        "# define cross entropy loss\n",
        "loss_func = nn.CrossEntropyLoss()\n",
        "\n",
        "# use Stochastic Gradient Descent optimizer\n",
        "arr_lr = [0.1, 0.01, 0.001]\n",
        "lr = arr_lr[1] # change learning_rate\n",
        "optimizer = torch.optim.Adam(model.parameters(), lr=1e-3)"
      ]
    },
    {
      "cell_type": "code",
      "execution_count": null,
      "id": "49b6c086",
      "metadata": {
        "id": "49b6c086",
        "colab": {
          "base_uri": "https://localhost:8080/"
        },
        "outputId": "e59bffa7-5de2-4203-8345-d2e35d05e930"
      },
      "outputs": [
        {
          "output_type": "stream",
          "name": "stdout",
          "text": [
            "--------------------------------------------------\n",
            "Number of epoch: 5\n",
            "Learning rate: 0.01 -- Batch size: 16\n",
            "epoch 0 started\n",
            "epoch 0 accuracy 98.41%\n",
            "epoch 1 started\n",
            "epoch 1 accuracy 98.83%\n",
            "epoch 2 started\n",
            "epoch 2 accuracy 98.90%\n",
            "epoch 3 started\n",
            "epoch 3 accuracy 99.07%\n",
            "epoch 4 started\n",
            "epoch 4 accuracy 99.24%\n"
          ]
        }
      ],
      "source": [
        "# train with GPU\n",
        "n_epoch = 5\n",
        "\n",
        "# change epoch \n",
        "arr_num_epoch = [5, 10, 50, 100]\n",
        "for num_ep in arr_num_epoch:\n",
        "    print('-'*50)\n",
        "    print(f'Number of epoch: {num_ep}\\nLearning rate: {lr} -- Batch size: {batch_size}')\n",
        "    n_epoch = num_ep\n",
        "    model.cuda()\n",
        "    for epoch in range(n_epoch):\n",
        "\n",
        "        # training phase\n",
        "        model.train()\n",
        "        print(f\"epoch {epoch} started\")\n",
        "        for x, y in train_dataloader:\n",
        "            # compute output of the model on the mini-batch\n",
        "            x = x.cuda()\n",
        "            out = model(x)\n",
        "\n",
        "            # compute loss function\n",
        "            loss = loss_func(out, y.cuda())\n",
        "\n",
        "            # calculate derivative and do a gradient descent step\n",
        "            optimizer.zero_grad()\n",
        "            loss.backward()\n",
        "            optimizer.step()\n",
        "\n",
        "        # testing phase\n",
        "        model.eval()\n",
        "        total = len(test_ds)\n",
        "        total_correct = 0 # count number of correct predictions on test set\n",
        "\n",
        "        for x, y in test_dataloader:\n",
        "            with torch.no_grad(): # prevent gradient computation\n",
        "                x = x.cuda()\n",
        "                out = model(x)\n",
        "                # take the maximum output\n",
        "                pred = torch.argmax(out, dim=1)\n",
        "                # count the correct predictions\n",
        "                corrects = (pred == y.cuda()).sum().item()\n",
        "                total_correct += corrects\n",
        "\n",
        "        # compute test accuracy for this epoch\n",
        "        accuracy = total_correct / total\n",
        "        print(f\"epoch {epoch} accuracy {accuracy*100:.2f}%\")\n",
        "    break"
      ]
    },
    {
      "cell_type": "code",
      "execution_count": null,
      "id": "89e2e9ff",
      "metadata": {
        "id": "89e2e9ff",
        "colab": {
          "base_uri": "https://localhost:8080/"
        },
        "outputId": "f1bda5c3-98d1-4da1-834e-12a2e7858e94"
      },
      "outputs": [
        {
          "output_type": "stream",
          "name": "stdout",
          "text": [
            "n_INCORRECT 76\n"
          ]
        }
      ],
      "source": [
        "# calculate prediction on test set\n",
        "ypred = []\n",
        "targets = []\n",
        "model.eval()\n",
        "with torch.no_grad():\n",
        "    for x, y in test_ds:\n",
        "        \n",
        "        # this is the code to do inference\n",
        "    #     x = x.view(len(x), -1).cuda()\n",
        "        x = x.unsqueeze(0).cuda() # append batch size\n",
        "        out = model(x)\n",
        "        pred = torch.argmax(out, dim=1).item()\n",
        "\n",
        "        # append the prediction results\n",
        "        ypred.append(pred)\n",
        "        targets.append(y)\n",
        "n_incorrect = sum([x != y for x, y in zip(targets, ypred)])\n",
        "print(\"n_INCORRECT\", n_incorrect)"
      ]
    },
    {
      "cell_type": "markdown",
      "id": "5deb733e",
      "metadata": {
        "id": "5deb733e"
      },
      "source": [
        "## Densenet"
      ]
    },
    {
      "cell_type": "markdown",
      "source": [
        "![picture](https://editor.analyticsvidhya.com/uploads/254293.png) DenseNet Architecture"
      ],
      "metadata": {
        "id": "RtCH4iTUrtwh"
      },
      "id": "RtCH4iTUrtwh"
    },
    {
      "cell_type": "markdown",
      "source": [
        "![picture](https://amaarora.github.io/images/densenet.png) \n",
        "Single layer"
      ],
      "metadata": {
        "id": "p2jUY_x2sOZX"
      },
      "id": "p2jUY_x2sOZX"
    },
    {
      "cell_type": "code",
      "execution_count": null,
      "id": "ca10a082",
      "metadata": {
        "id": "ca10a082"
      },
      "outputs": [],
      "source": [
        "class SingleLayer(nn.Module):\n",
        "    def __init__(self, nChannels, growthRate):\n",
        "        super(SingleLayer, self).__init__()\n",
        "        self.bn1 = nn.BatchNorm2d(nChannels)\n",
        "        self.conv1 = nn.Conv2d(nChannels, growthRate, kernel_size=3,\n",
        "                               padding=1, bias=False)\n",
        "\n",
        "    def forward(self, x):\n",
        "        # implement here\n",
        "        # shape (batch_size, nChannels, num_feature, num_feature) -> (batch_size, growthRate, num_feature, num_feature)\n",
        "        # ex: batch_size - 16, nChannels = 24, growthRate = 12: (16, 24, 28, 28) -> (16, 12, 28, 28)\n",
        "        out = self.conv1(F.relu(self.bn1(x)))\n",
        "        # shape (batch_size, growthRate, num_feature, num_feature) -> (batch_size, (growthRate + nChannels), num_feature, num_feature)\n",
        "        out = torch.cat((x, out), 1)\n",
        "        return out"
      ]
    },
    {
      "cell_type": "code",
      "source": [
        "# test\n",
        "torch.manual_seed(20)\n",
        "x = torch.rand(16,24,28,28)\n",
        "layer = SingleLayer(24, 12)\n",
        "layer(x)"
      ],
      "metadata": {
        "id": "Mlu6KFvEPWfF"
      },
      "id": "Mlu6KFvEPWfF",
      "execution_count": null,
      "outputs": []
    },
    {
      "cell_type": "markdown",
      "source": [
        "![picture](https://drive.google.com/uc?id=1glh6rRmIleGiNlN56_fPlA_TVd731uPD)\n",
        "Bottle Neck layer"
      ],
      "metadata": {
        "id": "uI5dQKNIufJQ"
      },
      "id": "uI5dQKNIufJQ"
    },
    {
      "cell_type": "code",
      "execution_count": null,
      "id": "f45ac131",
      "metadata": {
        "id": "f45ac131"
      },
      "outputs": [],
      "source": [
        "class Bottleneck(nn.Module):\n",
        "    def __init__(self, nChannels, growthRate):\n",
        "        super(Bottleneck, self).__init__()\n",
        "        interChannels = 4*growthRate\n",
        "        self.bn1 = nn.BatchNorm2d(nChannels)\n",
        "        self.conv1 = nn.Conv2d(nChannels, interChannels, kernel_size=1,\n",
        "                               bias=False)\n",
        "        self.bn2 = nn.BatchNorm2d(interChannels)\n",
        "        self.conv2 = nn.Conv2d(interChannels, growthRate, kernel_size=3,\n",
        "                               padding=1, bias=False)\n",
        "\n",
        "    def forward(self, x):\n",
        "        # implement here\n",
        "        # shape (batch_size, nChannels, num_feature, num_feature) -> (batch_size, growthRate*4, num_feature, num_feature)\n",
        "        out = self.conv1(F.relu(self.bn1(x)))\n",
        "        # shape (batch_size, growthRate*4, num_feature, num_feature) -> (batch_size, growthRate, num_feature, num_feature)\n",
        "        out = self.conv2(F.relu(self.bn2(out)))\n",
        "        # shape (batch_size, growthRate, num_feature, num_feature) -> (batch_size, (nChannels +growthRate), num_feature, num_feature)\n",
        "        out = torch.cat((x, out), 1)\n",
        "        return out"
      ]
    },
    {
      "cell_type": "code",
      "source": [
        "# test\n",
        "torch.manual_seed(20)\n",
        "x = torch.rand(16,24,28,28)\n",
        "layer = Bottleneck(24, 12)\n",
        "layer(x)"
      ],
      "metadata": {
        "id": "JI77TnuIUYOf"
      },
      "id": "JI77TnuIUYOf",
      "execution_count": null,
      "outputs": []
    },
    {
      "cell_type": "code",
      "execution_count": null,
      "id": "77f9229b",
      "metadata": {
        "id": "77f9229b"
      },
      "outputs": [],
      "source": [
        "class Transition(nn.Module):\n",
        "    def __init__(self, nChannels, nOutChannels):\n",
        "        super(Transition, self).__init__()\n",
        "        self.bn1 = nn.BatchNorm2d(nChannels)\n",
        "        self.conv1 = nn.Conv2d(nChannels, nOutChannels, kernel_size=1,\n",
        "                               bias=False)\n",
        "\n",
        "    def forward(self, x):\n",
        "        out = self.conv1(F.relu(self.bn1(x)))\n",
        "        out = F.avg_pool2d(out, 2)\n",
        "        return out"
      ]
    },
    {
      "cell_type": "code",
      "execution_count": null,
      "id": "af6e243f",
      "metadata": {
        "id": "af6e243f"
      },
      "outputs": [],
      "source": [
        "class DenseNet(nn.Module):\n",
        "    def __init__(self, growthRate, depth, reduction, nClasses, bottleneck):\n",
        "        \"\"\"\n",
        "        Parameters:\n",
        "            reduction: number of feature keep in a Block\n",
        "        \"\"\"\n",
        "        super(DenseNet, self).__init__()\n",
        "\n",
        "        nDenseBlocks = (depth-4) // 3\n",
        "        if bottleneck:\n",
        "            nDenseBlocks //= 2\n",
        "\n",
        "        nChannels = 2*growthRate\n",
        "        self.conv1 = nn.Conv2d(1, nChannels, kernel_size=3, padding=1,\n",
        "                               bias=False)\n",
        "        self.dense1 = self._make_dense(nChannels, growthRate, nDenseBlocks, bottleneck)\n",
        "        nChannels += nDenseBlocks*growthRate\n",
        "        nOutChannels = int(math.floor(nChannels*reduction))\n",
        "        self.trans1 = Transition(nChannels, nOutChannels)\n",
        "\n",
        "        nChannels = nOutChannels\n",
        "        self.dense2 = self._make_dense(nChannels, growthRate, nDenseBlocks, bottleneck)\n",
        "        nChannels += nDenseBlocks*growthRate\n",
        "        nOutChannels = int(math.floor(nChannels*reduction))\n",
        "        self.trans2 = Transition(nChannels, nOutChannels)\n",
        "\n",
        "        nChannels = nOutChannels\n",
        "        self.dense3 = self._make_dense(nChannels, growthRate, nDenseBlocks, bottleneck)\n",
        "        nChannels += nDenseBlocks*growthRate\n",
        "        \n",
        "        self.bn1 = nn.BatchNorm2d(nChannels)\n",
        "        self.fc = nn.Linear(nChannels, nClasses)\n",
        "\n",
        "        \n",
        "        # initialize bias and weight for each type of module\n",
        "        for m in self.modules():\n",
        "            if isinstance(m, nn.Conv2d):\n",
        "                n = m.kernel_size[0] * m.kernel_size[1] * m.out_channels\n",
        "                m.weight.data.normal_(0, math.sqrt(2. / n))\n",
        "            elif isinstance(m, nn.BatchNorm2d):\n",
        "                m.weight.data.fill_(1)\n",
        "                m.bias.data.zero_()\n",
        "            elif isinstance(m, nn.Linear):\n",
        "                m.bias.data.zero_()\n",
        "\n",
        "    def _make_dense(self, nChannels, growthRate, nDenseBlocks, bottleneck):\n",
        "        layers = []\n",
        "        for i in range(int(nDenseBlocks)):\n",
        "            if bottleneck:\n",
        "                layers.append(Bottleneck(nChannels, growthRate))\n",
        "            else:\n",
        "                layers.append(SingleLayer(nChannels, growthRate))\n",
        "            nChannels += growthRate\n",
        "        return nn.Sequential(*layers)\n",
        "\n",
        "    def forward(self, x):\n",
        "        # implement code here\n",
        "        # Example for one batch\n",
        "        # shape (16, 1, 28, 28) -> (16, 24, 28, 28) conv1\n",
        "        out = self.conv1(x)\n",
        "\n",
        "        # dense layer -> trans layer\n",
        "        # shape (16, 24, 28, 28) -> (16, 246, 14, 14) trans1\n",
        "        out = self.trans1(self.dense1(out))\n",
        "\n",
        "        # dense layer -> trans layer\n",
        "        # shape (16, 246, 14, 14)  -> [16, 357, 7, 7] trans2\n",
        "        out = self.trans2(self.dense2(out))\n",
        "\n",
        "        # shape [16, 357, 7, 7] -> [16, 825, 7, 7] dense3\n",
        "        out = self.dense3(out)\n",
        "\n",
        "        # BatchNorm -> Relu -> AvgPool2d\n",
        "        # shape [16, 825, 7, 7] -> [16, 825]\n",
        "        out = torch.squeeze(F.avg_pool2d(F.relu(self.bn1(out)), 7))\n",
        "        # shape [16, 825] -> [16, 10]\n",
        "        out = F.log_softmax(self.fc(out))\n",
        "        return out"
      ]
    },
    {
      "cell_type": "markdown",
      "id": "39b2cba7",
      "metadata": {
        "id": "39b2cba7"
      },
      "source": [
        "### Train Densenet with MMINST"
      ]
    },
    {
      "cell_type": "code",
      "execution_count": null,
      "id": "5ced7c24",
      "metadata": {
        "id": "5ced7c24"
      },
      "outputs": [],
      "source": [
        "# test model with inputs\n",
        "model = DenseNet(growthRate=12, depth=121, reduction=0.5, nClasses=10, bottleneck=False) # MLP\n",
        "\n",
        "# model = resnet18(num_classes=10, grayscale=True) # resnet\n",
        "\n",
        "# define cross entropy loss\n",
        "loss_func = nn.CrossEntropyLoss()\n",
        "\n",
        "# use Stochastic Gradient Descent optimizer\n",
        "arr_lr = [0.1, 0.01, 0.001]\n",
        "lr = arr_lr[1] # change learning_rate\n",
        "optimizer = torch.optim.SGD(model.parameters(), lr=lr)"
      ]
    },
    {
      "cell_type": "code",
      "execution_count": null,
      "id": "e93288b8",
      "metadata": {
        "scrolled": true,
        "id": "e93288b8"
      },
      "outputs": [],
      "source": [
        "# train with GPU\n",
        "n_epoch = 5\n",
        "\n",
        "# change epoch \n",
        "arr_num_epoch = [5, 10, 50, 100]\n",
        "for num_ep in arr_num_epoch:\n",
        "    print('-'*50)\n",
        "    print(f'Number of epoch: {num_ep}\\nLearning rate: {lr} -- Batch size: {batch_size}')\n",
        "    n_epoch = num_ep\n",
        "    model.cuda()\n",
        "    for epoch in range(n_epoch):\n",
        "\n",
        "        # training phase\n",
        "        model.train()\n",
        "        print(f\"epoch {epoch} started\")\n",
        "        for x, y in train_dataloader:\n",
        "            # compute output of the model on the mini-batch\n",
        "            x = x.cuda()\n",
        "            out = model(x)\n",
        "            # compute loss function\n",
        "            loss = loss_func(out, y.cuda())\n",
        "\n",
        "            # calculate derivative and do a gradient descent step\n",
        "            optimizer.zero_grad()\n",
        "            loss.backward()\n",
        "            optimizer.step()\n",
        "\n",
        "        # testing phase\n",
        "        model.eval()\n",
        "        total = len(test_ds)\n",
        "        total_correct = 0 # count number of correct predictions on test set\n",
        "\n",
        "        for x, y in test_dataloader:\n",
        "            with torch.no_grad(): # prevent gradient computation\n",
        "                x = x.cuda()\n",
        "                out = model(x)\n",
        "                # take the maximum output\n",
        "                pred = torch.argmax(out, dim=1)\n",
        "                # count the correct predictions\n",
        "                corrects = (pred == y.cuda()).sum().item()\n",
        "                total_correct += corrects\n",
        "\n",
        "        # compute test accuracy for this epoch\n",
        "        accuracy = total_correct / total\n",
        "        print(f\"epoch {epoch} accuracy {accuracy*100:.2f}%\")\n",
        "    break"
      ]
    },
    {
      "cell_type": "markdown",
      "source": [
        "#Excercises\n",
        "1. Try ResNet18, ResNet34, ResNet50. What are differences once using these backbones? \n",
        "2. Try InceptionNet\n",
        "3. What is Conv1x1? What is its advantages?"
      ],
      "metadata": {
        "id": "f3PcTmuA2SBu"
      },
      "id": "f3PcTmuA2SBu"
    },
    {
      "cell_type": "code",
      "source": [
        "def conv3x3(in_planes, out_planes, stride=1):\n",
        "    \"\"\"3x3 convolution with padding\"\"\"\n",
        "    return nn.Conv2d(in_planes, out_planes, kernel_size=3, stride=stride,\n",
        "                     padding=1, bias=False)"
      ],
      "metadata": {
        "id": "f0LlNhAUfUOS"
      },
      "id": "f0LlNhAUfUOS",
      "execution_count": null,
      "outputs": []
    },
    {
      "cell_type": "code",
      "source": [
        "class BasicBlock(nn.Module):\n",
        "    expansion = 1\n",
        "\n",
        "    def __init__(self, inplanes, planes, stride=1, downsample=None):\n",
        "        super(BasicBlock, self).__init__()\n",
        "        self.conv1 = conv3x3(inplanes, planes, stride)\n",
        "        self.bn1 = nn.BatchNorm2d(planes)\n",
        "        self.relu = nn.ReLU(inplace=True)\n",
        "        self.conv2 = conv3x3(planes, planes)\n",
        "        self.bn2 = nn.BatchNorm2d(planes)\n",
        "        self.downsample = downsample\n",
        "        self.stride = stride\n",
        "\n",
        "    def forward(self, x):\n",
        "        residual = x\n",
        "\n",
        "        out = self.conv1(x)\n",
        "        out = self.bn1(out)\n",
        "        out = self.relu(out)\n",
        "\n",
        "        out = self.conv2(out)\n",
        "        out = self.bn2(out)\n",
        "\n",
        "        if self.downsample is not None:\n",
        "            residual = self.downsample(x)\n",
        "\n",
        "        out += residual\n",
        "        out = self.relu(out)\n",
        "\n",
        "        return out"
      ],
      "metadata": {
        "id": "eISJ24mFriRb"
      },
      "id": "eISJ24mFriRb",
      "execution_count": null,
      "outputs": []
    },
    {
      "cell_type": "code",
      "source": [
        "class Bottleneck(nn.Module):\n",
        "    expansion = 4\n",
        "\n",
        "    def __init__(self, inplanes, planes, stride=1, downsample=None):\n",
        "        super(Bottleneck, self).__init__()\n",
        "        self.conv1 = nn.Conv2d(inplanes, planes, kernel_size=1, bias=False)\n",
        "        self.bn1 = nn.BatchNorm2d(planes)\n",
        "        self.conv2 = nn.Conv2d(planes, planes, kernel_size=3, stride=stride,\n",
        "                               padding=1, bias=False)\n",
        "        self.bn2 = nn.BatchNorm2d(planes)\n",
        "        self.conv3 = nn.Conv2d(planes, planes * 4, kernel_size=1, bias=False)\n",
        "        self.bn3 = nn.BatchNorm2d(planes * 4)\n",
        "        self.relu = nn.ReLU(inplace=True)\n",
        "        self.downsample = downsample\n",
        "        self.stride = stride\n",
        "\n",
        "    def forward(self, x):\n",
        "        residual = x\n",
        "\n",
        "        out = self.conv1(x)\n",
        "        out = self.bn1(out)\n",
        "        out = self.relu(out)\n",
        "\n",
        "        out = self.conv2(out)\n",
        "        out = self.bn2(out)\n",
        "        out = self.relu(out)\n",
        "\n",
        "        out = self.conv3(out)\n",
        "        out = self.bn3(out)\n",
        "\n",
        "        if self.downsample is not None:\n",
        "            residual = self.downsample(x)\n",
        "\n",
        "        out += residual\n",
        "        out = self.relu(out)\n",
        "\n",
        "        return out"
      ],
      "metadata": {
        "id": "a1y_eAP7rjmo"
      },
      "id": "a1y_eAP7rjmo",
      "execution_count": null,
      "outputs": []
    },
    {
      "cell_type": "code",
      "source": [
        "class ResNet(nn.Module):\n",
        "\n",
        "    def __init__(self, block, layers, num_classes=1000, grayscale=False):\n",
        "        self.inplanes = 64\n",
        "        if grayscale:\n",
        "            in_dim = 1\n",
        "        else:\n",
        "            in_dim = 3\n",
        "        super(ResNet, self).__init__()\n",
        "        self.conv1 = nn.Conv2d(in_dim, 64, kernel_size=7, stride=2, padding=3,\n",
        "                               bias=False)\n",
        "        self.bn1 = nn.BatchNorm2d(64)\n",
        "        self.relu = nn.ReLU(inplace=True)\n",
        "        self.maxpool = nn.MaxPool2d(kernel_size=3, stride=2, padding=1)\n",
        "        self.layer1 = self._make_layer(block, 64, layers[0])\n",
        "        self.layer2 = self._make_layer(block, 128, layers[1], stride=2)\n",
        "        self.layer3 = self._make_layer(block, 256, layers[2], stride=2)\n",
        "        self.layer4 = self._make_layer(block, 512, layers[3], stride=2)\n",
        "        self.avgpool = nn.AvgPool2d(7, stride=1)\n",
        "        self.fc = nn.Linear(512 * block.expansion, num_classes)\n",
        "\n",
        "        for m in self.modules():\n",
        "            if isinstance(m, nn.Conv2d):\n",
        "                n = m.kernel_size[0] * m.kernel_size[1] * m.out_channels\n",
        "                m.weight.data.normal_(0, math.sqrt(2. / n))\n",
        "            elif isinstance(m, nn.BatchNorm2d):\n",
        "                m.weight.data.fill_(1)\n",
        "                m.bias.data.zero_()\n",
        "\n",
        "    def _make_layer(self, block, planes, blocks, stride=1):\n",
        "        downsample = None\n",
        "        if stride != 1 or self.inplanes != planes * block.expansion:\n",
        "            downsample = nn.Sequential(\n",
        "                nn.Conv2d(self.inplanes, planes * block.expansion,\n",
        "                          kernel_size=1, stride=stride, bias=False),\n",
        "                nn.BatchNorm2d(planes * block.expansion),\n",
        "            )\n",
        "\n",
        "        layers = []\n",
        "        layers.append(block(self.inplanes, planes, stride, downsample))\n",
        "        self.inplanes = planes * block.expansion\n",
        "        for i in range(1, blocks):\n",
        "            layers.append(block(self.inplanes, planes))\n",
        "\n",
        "        return nn.Sequential(*layers)\n",
        "\n",
        "    def forward(self, x):\n",
        "        x = self.conv1(x)\n",
        "        x = self.bn1(x)\n",
        "        x = self.relu(x)\n",
        "        x = self.maxpool(x)\n",
        "\n",
        "        x = self.layer1(x)\n",
        "        x = self.layer2(x)\n",
        "        x = self.layer3(x)\n",
        "        x = self.layer4(x)\n",
        "        # MNIST is already 1x1 disable avgpool\n",
        "        # x = self.avgpool(x)\n",
        "        x = x.view(x.size(0), -1)\n",
        "        x = self.fc(x)\n",
        "\n",
        "        return x"
      ],
      "metadata": {
        "id": "z5cRDyo7rnI1"
      },
      "id": "z5cRDyo7rnI1",
      "execution_count": null,
      "outputs": []
    },
    {
      "cell_type": "code",
      "source": [
        "def resnet18(num_classes, grayscale):\n",
        "    \"\"\"Constructs a ResNet-18 model.\"\"\"\n",
        "    model = ResNet(BasicBlock, layers=[2, 2, 2, 2], num_classes=num_classes, grayscale=grayscale)\n",
        "    return model\n",
        "\n",
        "def resnet34(num_classes, grayscale):\n",
        "    \"\"\"Constructs a ResNet-34 model.\"\"\"\n",
        "    model = ResNet(BasicBlock, [3, 4, 6, 3], num_classes=num_classes, grayscale=grayscale)\n",
        "    return model\n",
        "\n",
        "def resnet50(num_classes, grayscale):\n",
        "    \"\"\"Constructs a ResNet-50 model.\"\"\"\n",
        "    model = ResNet(Bottleneck, [3, 4, 6, 3], num_classes=num_classes, grayscale=grayscale)\n",
        "    return model"
      ],
      "metadata": {
        "id": "S5xdjBnHrsHA"
      },
      "id": "S5xdjBnHrsHA",
      "execution_count": null,
      "outputs": []
    },
    {
      "cell_type": "code",
      "source": [
        "batch_size = 16\n",
        "train_dataset = datasets.MNIST(root='data', train=True, transform=ToTensor(), download=True)\n",
        "test_dataset = datasets.MNIST(root='data', train=False, transform=ToTensor())\n",
        "\n",
        "\n",
        "train_dataloader = DataLoader(dataset=train_dataset, batch_size=batch_size, shuffle=True)\n",
        "test_dataloader = DataLoader(dataset=test_dataset, batch_size=batch_size, shuffle=False)\n",
        "\n",
        "# Checking the dataset\n",
        "for images, labels in train_dataloader:  \n",
        "    print('Image batch dimensions:', images.shape)\n",
        "    print('Image label dimensions:', labels.shape)\n",
        "    break"
      ],
      "metadata": {
        "colab": {
          "base_uri": "https://localhost:8080/"
        },
        "id": "Lu47bSELuaaq",
        "outputId": "a630c9ae-6c21-4411-b8e9-5aed8a62d066"
      },
      "id": "Lu47bSELuaaq",
      "execution_count": null,
      "outputs": [
        {
          "output_type": "stream",
          "name": "stdout",
          "text": [
            "Image batch dimensions: torch.Size([16, 1, 28, 28])\n",
            "Image label dimensions: torch.Size([16])\n"
          ]
        }
      ]
    },
    {
      "cell_type": "code",
      "source": [
        "model = resnet50(10, True) # resnet\n",
        "arr_lr = [0.1, 0.01, 0.001]\n",
        "lr = arr_lr[1] # change learning_rate\n",
        "loss_func = nn.CrossEntropyLoss()\n",
        "\n",
        "# optimizer = torch.optim.SGD(model.parameters(), lr=lr)\n",
        "optimizer = torch.optim.Adam(model.parameters(), lr=lr)  "
      ],
      "metadata": {
        "id": "_yfUaw-ct6Kh"
      },
      "id": "_yfUaw-ct6Kh",
      "execution_count": null,
      "outputs": []
    },
    {
      "cell_type": "code",
      "source": [
        "# train with GPU\n",
        "n_epoch = 5\n",
        "\n",
        "# change epoch \n",
        "arr_num_epoch = [5, 10, 50, 100]\n",
        "for num_ep in arr_num_epoch:\n",
        "    print('-'*50)\n",
        "    print(f'Number of epoch: {num_ep}\\nLearning rate: {lr} -- Batch size: {batch_size}')\n",
        "    n_epoch = num_ep\n",
        "    model.cuda()\n",
        "    for epoch in range(n_epoch):\n",
        "\n",
        "        # training phase\n",
        "        model.train()\n",
        "        print(f\"epoch {epoch} started\")\n",
        "        for x, y in train_dataloader:\n",
        "            # compute output of the model on the mini-batch\n",
        "            x = x.cuda()\n",
        "            out = model(x)\n",
        "            # compute loss function\n",
        "            loss = loss_func(out, y.cuda())\n",
        "\n",
        "            # calculate derivative and do a gradient descent step\n",
        "            optimizer.zero_grad()\n",
        "            loss.backward()\n",
        "            optimizer.step()\n",
        "\n",
        "        # testing phase\n",
        "        model.eval()\n",
        "        total = len(test_ds)\n",
        "        total_correct = 0 # count number of correct predictions on test set\n",
        "\n",
        "        for x, y in test_dataloader:\n",
        "            with torch.no_grad(): # prevent gradient computation\n",
        "                x = x.cuda()\n",
        "                out = model(x)\n",
        "                # take the maximum output\n",
        "                pred = torch.argmax(out, dim=1)\n",
        "                # count the correct predictions\n",
        "                corrects = (pred == y.cuda()).sum().item()\n",
        "                total_correct += corrects\n",
        "\n",
        "        # compute test accuracy for this epoch\n",
        "        accuracy = total_correct / total\n",
        "        print(f\"epoch {epoch} accuracy {accuracy*100:.2f}%\")\n",
        "    break"
      ],
      "metadata": {
        "colab": {
          "base_uri": "https://localhost:8080/"
        },
        "id": "iHbupznJt-XC",
        "outputId": "4294a89d-f93c-44b1-e415-03e65184b7bc"
      },
      "id": "iHbupznJt-XC",
      "execution_count": null,
      "outputs": [
        {
          "output_type": "stream",
          "name": "stdout",
          "text": [
            "--------------------------------------------------\n",
            "Number of epoch: 5\n",
            "Learning rate: 0.01 -- Batch size: 16\n",
            "epoch 0 started\n",
            "epoch 0 accuracy 97.35%\n",
            "epoch 1 started\n",
            "epoch 1 accuracy 96.87%\n",
            "epoch 2 started\n",
            "epoch 2 accuracy 97.88%\n",
            "epoch 3 started\n",
            "epoch 3 accuracy 97.71%\n",
            "epoch 4 started\n",
            "epoch 4 accuracy 98.66%\n"
          ]
        }
      ]
    }
  ],
  "metadata": {
    "kernelspec": {
      "display_name": "Python 3 (ipykernel)",
      "language": "python",
      "name": "python3"
    },
    "language_info": {
      "codemirror_mode": {
        "name": "ipython",
        "version": 3
      },
      "file_extension": ".py",
      "mimetype": "text/x-python",
      "name": "python",
      "nbconvert_exporter": "python",
      "pygments_lexer": "ipython3",
      "version": "3.7.0"
    },
    "colab": {
      "provenance": [],
      "collapsed_sections": [
        "39b2cba7"
      ],
      "include_colab_link": true
    },
    "widgets": {
      "application/vnd.jupyter.widget-state+json": {
        "35aa99c495c341e9adb2a7c481a98bd4": {
          "model_module": "@jupyter-widgets/controls",
          "model_name": "HBoxModel",
          "model_module_version": "1.5.0",
          "state": {
            "_dom_classes": [],
            "_model_module": "@jupyter-widgets/controls",
            "_model_module_version": "1.5.0",
            "_model_name": "HBoxModel",
            "_view_count": null,
            "_view_module": "@jupyter-widgets/controls",
            "_view_module_version": "1.5.0",
            "_view_name": "HBoxView",
            "box_style": "",
            "children": [
              "IPY_MODEL_70546ca1bc74462aaf7435d9c3f69ce3",
              "IPY_MODEL_3f5922b5af5e4e72a3b76b9408e2dd43",
              "IPY_MODEL_95cf4ce1da424949898e9787665bef88"
            ],
            "layout": "IPY_MODEL_46b56e6008d04206a0947fcea7caa47d"
          }
        },
        "70546ca1bc74462aaf7435d9c3f69ce3": {
          "model_module": "@jupyter-widgets/controls",
          "model_name": "HTMLModel",
          "model_module_version": "1.5.0",
          "state": {
            "_dom_classes": [],
            "_model_module": "@jupyter-widgets/controls",
            "_model_module_version": "1.5.0",
            "_model_name": "HTMLModel",
            "_view_count": null,
            "_view_module": "@jupyter-widgets/controls",
            "_view_module_version": "1.5.0",
            "_view_name": "HTMLView",
            "description": "",
            "description_tooltip": null,
            "layout": "IPY_MODEL_70c4b575997c4dfa800617e088e688df",
            "placeholder": "​",
            "style": "IPY_MODEL_06aac50089e34c9cb513c6f0af1c348f",
            "value": "100%"
          }
        },
        "3f5922b5af5e4e72a3b76b9408e2dd43": {
          "model_module": "@jupyter-widgets/controls",
          "model_name": "FloatProgressModel",
          "model_module_version": "1.5.0",
          "state": {
            "_dom_classes": [],
            "_model_module": "@jupyter-widgets/controls",
            "_model_module_version": "1.5.0",
            "_model_name": "FloatProgressModel",
            "_view_count": null,
            "_view_module": "@jupyter-widgets/controls",
            "_view_module_version": "1.5.0",
            "_view_name": "ProgressView",
            "bar_style": "success",
            "description": "",
            "description_tooltip": null,
            "layout": "IPY_MODEL_1f2aa71c0fe64c3c9aee047f452fde6e",
            "max": 9912422,
            "min": 0,
            "orientation": "horizontal",
            "style": "IPY_MODEL_184fd89f810d45ce8680b599b01330d0",
            "value": 9912422
          }
        },
        "95cf4ce1da424949898e9787665bef88": {
          "model_module": "@jupyter-widgets/controls",
          "model_name": "HTMLModel",
          "model_module_version": "1.5.0",
          "state": {
            "_dom_classes": [],
            "_model_module": "@jupyter-widgets/controls",
            "_model_module_version": "1.5.0",
            "_model_name": "HTMLModel",
            "_view_count": null,
            "_view_module": "@jupyter-widgets/controls",
            "_view_module_version": "1.5.0",
            "_view_name": "HTMLView",
            "description": "",
            "description_tooltip": null,
            "layout": "IPY_MODEL_04e9001a1aea4fcebc2aded93dae5c48",
            "placeholder": "​",
            "style": "IPY_MODEL_4ce06126c70444d99f74ec99288e5978",
            "value": " 9912422/9912422 [00:00&lt;00:00, 34105541.36it/s]"
          }
        },
        "46b56e6008d04206a0947fcea7caa47d": {
          "model_module": "@jupyter-widgets/base",
          "model_name": "LayoutModel",
          "model_module_version": "1.2.0",
          "state": {
            "_model_module": "@jupyter-widgets/base",
            "_model_module_version": "1.2.0",
            "_model_name": "LayoutModel",
            "_view_count": null,
            "_view_module": "@jupyter-widgets/base",
            "_view_module_version": "1.2.0",
            "_view_name": "LayoutView",
            "align_content": null,
            "align_items": null,
            "align_self": null,
            "border": null,
            "bottom": null,
            "display": null,
            "flex": null,
            "flex_flow": null,
            "grid_area": null,
            "grid_auto_columns": null,
            "grid_auto_flow": null,
            "grid_auto_rows": null,
            "grid_column": null,
            "grid_gap": null,
            "grid_row": null,
            "grid_template_areas": null,
            "grid_template_columns": null,
            "grid_template_rows": null,
            "height": null,
            "justify_content": null,
            "justify_items": null,
            "left": null,
            "margin": null,
            "max_height": null,
            "max_width": null,
            "min_height": null,
            "min_width": null,
            "object_fit": null,
            "object_position": null,
            "order": null,
            "overflow": null,
            "overflow_x": null,
            "overflow_y": null,
            "padding": null,
            "right": null,
            "top": null,
            "visibility": null,
            "width": null
          }
        },
        "70c4b575997c4dfa800617e088e688df": {
          "model_module": "@jupyter-widgets/base",
          "model_name": "LayoutModel",
          "model_module_version": "1.2.0",
          "state": {
            "_model_module": "@jupyter-widgets/base",
            "_model_module_version": "1.2.0",
            "_model_name": "LayoutModel",
            "_view_count": null,
            "_view_module": "@jupyter-widgets/base",
            "_view_module_version": "1.2.0",
            "_view_name": "LayoutView",
            "align_content": null,
            "align_items": null,
            "align_self": null,
            "border": null,
            "bottom": null,
            "display": null,
            "flex": null,
            "flex_flow": null,
            "grid_area": null,
            "grid_auto_columns": null,
            "grid_auto_flow": null,
            "grid_auto_rows": null,
            "grid_column": null,
            "grid_gap": null,
            "grid_row": null,
            "grid_template_areas": null,
            "grid_template_columns": null,
            "grid_template_rows": null,
            "height": null,
            "justify_content": null,
            "justify_items": null,
            "left": null,
            "margin": null,
            "max_height": null,
            "max_width": null,
            "min_height": null,
            "min_width": null,
            "object_fit": null,
            "object_position": null,
            "order": null,
            "overflow": null,
            "overflow_x": null,
            "overflow_y": null,
            "padding": null,
            "right": null,
            "top": null,
            "visibility": null,
            "width": null
          }
        },
        "06aac50089e34c9cb513c6f0af1c348f": {
          "model_module": "@jupyter-widgets/controls",
          "model_name": "DescriptionStyleModel",
          "model_module_version": "1.5.0",
          "state": {
            "_model_module": "@jupyter-widgets/controls",
            "_model_module_version": "1.5.0",
            "_model_name": "DescriptionStyleModel",
            "_view_count": null,
            "_view_module": "@jupyter-widgets/base",
            "_view_module_version": "1.2.0",
            "_view_name": "StyleView",
            "description_width": ""
          }
        },
        "1f2aa71c0fe64c3c9aee047f452fde6e": {
          "model_module": "@jupyter-widgets/base",
          "model_name": "LayoutModel",
          "model_module_version": "1.2.0",
          "state": {
            "_model_module": "@jupyter-widgets/base",
            "_model_module_version": "1.2.0",
            "_model_name": "LayoutModel",
            "_view_count": null,
            "_view_module": "@jupyter-widgets/base",
            "_view_module_version": "1.2.0",
            "_view_name": "LayoutView",
            "align_content": null,
            "align_items": null,
            "align_self": null,
            "border": null,
            "bottom": null,
            "display": null,
            "flex": null,
            "flex_flow": null,
            "grid_area": null,
            "grid_auto_columns": null,
            "grid_auto_flow": null,
            "grid_auto_rows": null,
            "grid_column": null,
            "grid_gap": null,
            "grid_row": null,
            "grid_template_areas": null,
            "grid_template_columns": null,
            "grid_template_rows": null,
            "height": null,
            "justify_content": null,
            "justify_items": null,
            "left": null,
            "margin": null,
            "max_height": null,
            "max_width": null,
            "min_height": null,
            "min_width": null,
            "object_fit": null,
            "object_position": null,
            "order": null,
            "overflow": null,
            "overflow_x": null,
            "overflow_y": null,
            "padding": null,
            "right": null,
            "top": null,
            "visibility": null,
            "width": null
          }
        },
        "184fd89f810d45ce8680b599b01330d0": {
          "model_module": "@jupyter-widgets/controls",
          "model_name": "ProgressStyleModel",
          "model_module_version": "1.5.0",
          "state": {
            "_model_module": "@jupyter-widgets/controls",
            "_model_module_version": "1.5.0",
            "_model_name": "ProgressStyleModel",
            "_view_count": null,
            "_view_module": "@jupyter-widgets/base",
            "_view_module_version": "1.2.0",
            "_view_name": "StyleView",
            "bar_color": null,
            "description_width": ""
          }
        },
        "04e9001a1aea4fcebc2aded93dae5c48": {
          "model_module": "@jupyter-widgets/base",
          "model_name": "LayoutModel",
          "model_module_version": "1.2.0",
          "state": {
            "_model_module": "@jupyter-widgets/base",
            "_model_module_version": "1.2.0",
            "_model_name": "LayoutModel",
            "_view_count": null,
            "_view_module": "@jupyter-widgets/base",
            "_view_module_version": "1.2.0",
            "_view_name": "LayoutView",
            "align_content": null,
            "align_items": null,
            "align_self": null,
            "border": null,
            "bottom": null,
            "display": null,
            "flex": null,
            "flex_flow": null,
            "grid_area": null,
            "grid_auto_columns": null,
            "grid_auto_flow": null,
            "grid_auto_rows": null,
            "grid_column": null,
            "grid_gap": null,
            "grid_row": null,
            "grid_template_areas": null,
            "grid_template_columns": null,
            "grid_template_rows": null,
            "height": null,
            "justify_content": null,
            "justify_items": null,
            "left": null,
            "margin": null,
            "max_height": null,
            "max_width": null,
            "min_height": null,
            "min_width": null,
            "object_fit": null,
            "object_position": null,
            "order": null,
            "overflow": null,
            "overflow_x": null,
            "overflow_y": null,
            "padding": null,
            "right": null,
            "top": null,
            "visibility": null,
            "width": null
          }
        },
        "4ce06126c70444d99f74ec99288e5978": {
          "model_module": "@jupyter-widgets/controls",
          "model_name": "DescriptionStyleModel",
          "model_module_version": "1.5.0",
          "state": {
            "_model_module": "@jupyter-widgets/controls",
            "_model_module_version": "1.5.0",
            "_model_name": "DescriptionStyleModel",
            "_view_count": null,
            "_view_module": "@jupyter-widgets/base",
            "_view_module_version": "1.2.0",
            "_view_name": "StyleView",
            "description_width": ""
          }
        },
        "661e050487a14570a8b143c23e0ac551": {
          "model_module": "@jupyter-widgets/controls",
          "model_name": "HBoxModel",
          "model_module_version": "1.5.0",
          "state": {
            "_dom_classes": [],
            "_model_module": "@jupyter-widgets/controls",
            "_model_module_version": "1.5.0",
            "_model_name": "HBoxModel",
            "_view_count": null,
            "_view_module": "@jupyter-widgets/controls",
            "_view_module_version": "1.5.0",
            "_view_name": "HBoxView",
            "box_style": "",
            "children": [
              "IPY_MODEL_97c5077649e74ceab0af22c7b2986bfc",
              "IPY_MODEL_a1a903afb29d43c6993cd5ef22f20c17",
              "IPY_MODEL_6e1dae74528940ffb620b249750c261d"
            ],
            "layout": "IPY_MODEL_9f1ae5036f2b4960ac225acf6836f2ed"
          }
        },
        "97c5077649e74ceab0af22c7b2986bfc": {
          "model_module": "@jupyter-widgets/controls",
          "model_name": "HTMLModel",
          "model_module_version": "1.5.0",
          "state": {
            "_dom_classes": [],
            "_model_module": "@jupyter-widgets/controls",
            "_model_module_version": "1.5.0",
            "_model_name": "HTMLModel",
            "_view_count": null,
            "_view_module": "@jupyter-widgets/controls",
            "_view_module_version": "1.5.0",
            "_view_name": "HTMLView",
            "description": "",
            "description_tooltip": null,
            "layout": "IPY_MODEL_4f82984c44d7483db950de8af409e24a",
            "placeholder": "​",
            "style": "IPY_MODEL_3db36c6077b04680b16a0185b5e79594",
            "value": "100%"
          }
        },
        "a1a903afb29d43c6993cd5ef22f20c17": {
          "model_module": "@jupyter-widgets/controls",
          "model_name": "FloatProgressModel",
          "model_module_version": "1.5.0",
          "state": {
            "_dom_classes": [],
            "_model_module": "@jupyter-widgets/controls",
            "_model_module_version": "1.5.0",
            "_model_name": "FloatProgressModel",
            "_view_count": null,
            "_view_module": "@jupyter-widgets/controls",
            "_view_module_version": "1.5.0",
            "_view_name": "ProgressView",
            "bar_style": "success",
            "description": "",
            "description_tooltip": null,
            "layout": "IPY_MODEL_7fa0ee67f81c4a1c8add16eea6e2cfc4",
            "max": 28881,
            "min": 0,
            "orientation": "horizontal",
            "style": "IPY_MODEL_94f40119bfa146a2bc311e5dde55d1c5",
            "value": 28881
          }
        },
        "6e1dae74528940ffb620b249750c261d": {
          "model_module": "@jupyter-widgets/controls",
          "model_name": "HTMLModel",
          "model_module_version": "1.5.0",
          "state": {
            "_dom_classes": [],
            "_model_module": "@jupyter-widgets/controls",
            "_model_module_version": "1.5.0",
            "_model_name": "HTMLModel",
            "_view_count": null,
            "_view_module": "@jupyter-widgets/controls",
            "_view_module_version": "1.5.0",
            "_view_name": "HTMLView",
            "description": "",
            "description_tooltip": null,
            "layout": "IPY_MODEL_57642242a8334ef793c30b4300a7ec6e",
            "placeholder": "​",
            "style": "IPY_MODEL_8bc630cb10d64e64a5cd67db6bd66f79",
            "value": " 28881/28881 [00:00&lt;00:00, 390754.00it/s]"
          }
        },
        "9f1ae5036f2b4960ac225acf6836f2ed": {
          "model_module": "@jupyter-widgets/base",
          "model_name": "LayoutModel",
          "model_module_version": "1.2.0",
          "state": {
            "_model_module": "@jupyter-widgets/base",
            "_model_module_version": "1.2.0",
            "_model_name": "LayoutModel",
            "_view_count": null,
            "_view_module": "@jupyter-widgets/base",
            "_view_module_version": "1.2.0",
            "_view_name": "LayoutView",
            "align_content": null,
            "align_items": null,
            "align_self": null,
            "border": null,
            "bottom": null,
            "display": null,
            "flex": null,
            "flex_flow": null,
            "grid_area": null,
            "grid_auto_columns": null,
            "grid_auto_flow": null,
            "grid_auto_rows": null,
            "grid_column": null,
            "grid_gap": null,
            "grid_row": null,
            "grid_template_areas": null,
            "grid_template_columns": null,
            "grid_template_rows": null,
            "height": null,
            "justify_content": null,
            "justify_items": null,
            "left": null,
            "margin": null,
            "max_height": null,
            "max_width": null,
            "min_height": null,
            "min_width": null,
            "object_fit": null,
            "object_position": null,
            "order": null,
            "overflow": null,
            "overflow_x": null,
            "overflow_y": null,
            "padding": null,
            "right": null,
            "top": null,
            "visibility": null,
            "width": null
          }
        },
        "4f82984c44d7483db950de8af409e24a": {
          "model_module": "@jupyter-widgets/base",
          "model_name": "LayoutModel",
          "model_module_version": "1.2.0",
          "state": {
            "_model_module": "@jupyter-widgets/base",
            "_model_module_version": "1.2.0",
            "_model_name": "LayoutModel",
            "_view_count": null,
            "_view_module": "@jupyter-widgets/base",
            "_view_module_version": "1.2.0",
            "_view_name": "LayoutView",
            "align_content": null,
            "align_items": null,
            "align_self": null,
            "border": null,
            "bottom": null,
            "display": null,
            "flex": null,
            "flex_flow": null,
            "grid_area": null,
            "grid_auto_columns": null,
            "grid_auto_flow": null,
            "grid_auto_rows": null,
            "grid_column": null,
            "grid_gap": null,
            "grid_row": null,
            "grid_template_areas": null,
            "grid_template_columns": null,
            "grid_template_rows": null,
            "height": null,
            "justify_content": null,
            "justify_items": null,
            "left": null,
            "margin": null,
            "max_height": null,
            "max_width": null,
            "min_height": null,
            "min_width": null,
            "object_fit": null,
            "object_position": null,
            "order": null,
            "overflow": null,
            "overflow_x": null,
            "overflow_y": null,
            "padding": null,
            "right": null,
            "top": null,
            "visibility": null,
            "width": null
          }
        },
        "3db36c6077b04680b16a0185b5e79594": {
          "model_module": "@jupyter-widgets/controls",
          "model_name": "DescriptionStyleModel",
          "model_module_version": "1.5.0",
          "state": {
            "_model_module": "@jupyter-widgets/controls",
            "_model_module_version": "1.5.0",
            "_model_name": "DescriptionStyleModel",
            "_view_count": null,
            "_view_module": "@jupyter-widgets/base",
            "_view_module_version": "1.2.0",
            "_view_name": "StyleView",
            "description_width": ""
          }
        },
        "7fa0ee67f81c4a1c8add16eea6e2cfc4": {
          "model_module": "@jupyter-widgets/base",
          "model_name": "LayoutModel",
          "model_module_version": "1.2.0",
          "state": {
            "_model_module": "@jupyter-widgets/base",
            "_model_module_version": "1.2.0",
            "_model_name": "LayoutModel",
            "_view_count": null,
            "_view_module": "@jupyter-widgets/base",
            "_view_module_version": "1.2.0",
            "_view_name": "LayoutView",
            "align_content": null,
            "align_items": null,
            "align_self": null,
            "border": null,
            "bottom": null,
            "display": null,
            "flex": null,
            "flex_flow": null,
            "grid_area": null,
            "grid_auto_columns": null,
            "grid_auto_flow": null,
            "grid_auto_rows": null,
            "grid_column": null,
            "grid_gap": null,
            "grid_row": null,
            "grid_template_areas": null,
            "grid_template_columns": null,
            "grid_template_rows": null,
            "height": null,
            "justify_content": null,
            "justify_items": null,
            "left": null,
            "margin": null,
            "max_height": null,
            "max_width": null,
            "min_height": null,
            "min_width": null,
            "object_fit": null,
            "object_position": null,
            "order": null,
            "overflow": null,
            "overflow_x": null,
            "overflow_y": null,
            "padding": null,
            "right": null,
            "top": null,
            "visibility": null,
            "width": null
          }
        },
        "94f40119bfa146a2bc311e5dde55d1c5": {
          "model_module": "@jupyter-widgets/controls",
          "model_name": "ProgressStyleModel",
          "model_module_version": "1.5.0",
          "state": {
            "_model_module": "@jupyter-widgets/controls",
            "_model_module_version": "1.5.0",
            "_model_name": "ProgressStyleModel",
            "_view_count": null,
            "_view_module": "@jupyter-widgets/base",
            "_view_module_version": "1.2.0",
            "_view_name": "StyleView",
            "bar_color": null,
            "description_width": ""
          }
        },
        "57642242a8334ef793c30b4300a7ec6e": {
          "model_module": "@jupyter-widgets/base",
          "model_name": "LayoutModel",
          "model_module_version": "1.2.0",
          "state": {
            "_model_module": "@jupyter-widgets/base",
            "_model_module_version": "1.2.0",
            "_model_name": "LayoutModel",
            "_view_count": null,
            "_view_module": "@jupyter-widgets/base",
            "_view_module_version": "1.2.0",
            "_view_name": "LayoutView",
            "align_content": null,
            "align_items": null,
            "align_self": null,
            "border": null,
            "bottom": null,
            "display": null,
            "flex": null,
            "flex_flow": null,
            "grid_area": null,
            "grid_auto_columns": null,
            "grid_auto_flow": null,
            "grid_auto_rows": null,
            "grid_column": null,
            "grid_gap": null,
            "grid_row": null,
            "grid_template_areas": null,
            "grid_template_columns": null,
            "grid_template_rows": null,
            "height": null,
            "justify_content": null,
            "justify_items": null,
            "left": null,
            "margin": null,
            "max_height": null,
            "max_width": null,
            "min_height": null,
            "min_width": null,
            "object_fit": null,
            "object_position": null,
            "order": null,
            "overflow": null,
            "overflow_x": null,
            "overflow_y": null,
            "padding": null,
            "right": null,
            "top": null,
            "visibility": null,
            "width": null
          }
        },
        "8bc630cb10d64e64a5cd67db6bd66f79": {
          "model_module": "@jupyter-widgets/controls",
          "model_name": "DescriptionStyleModel",
          "model_module_version": "1.5.0",
          "state": {
            "_model_module": "@jupyter-widgets/controls",
            "_model_module_version": "1.5.0",
            "_model_name": "DescriptionStyleModel",
            "_view_count": null,
            "_view_module": "@jupyter-widgets/base",
            "_view_module_version": "1.2.0",
            "_view_name": "StyleView",
            "description_width": ""
          }
        },
        "fc1a4cb61a2d4f3b8d8aa9f2b47847bc": {
          "model_module": "@jupyter-widgets/controls",
          "model_name": "HBoxModel",
          "model_module_version": "1.5.0",
          "state": {
            "_dom_classes": [],
            "_model_module": "@jupyter-widgets/controls",
            "_model_module_version": "1.5.0",
            "_model_name": "HBoxModel",
            "_view_count": null,
            "_view_module": "@jupyter-widgets/controls",
            "_view_module_version": "1.5.0",
            "_view_name": "HBoxView",
            "box_style": "",
            "children": [
              "IPY_MODEL_89c394182bc540fb9211545faa283ac3",
              "IPY_MODEL_f3132de106ec477ea1e65d82945c9a53",
              "IPY_MODEL_c27848f08d9f43079b7769ae79ca6bf2"
            ],
            "layout": "IPY_MODEL_2a85c6ddd7d344be9d7d9d4abe68b875"
          }
        },
        "89c394182bc540fb9211545faa283ac3": {
          "model_module": "@jupyter-widgets/controls",
          "model_name": "HTMLModel",
          "model_module_version": "1.5.0",
          "state": {
            "_dom_classes": [],
            "_model_module": "@jupyter-widgets/controls",
            "_model_module_version": "1.5.0",
            "_model_name": "HTMLModel",
            "_view_count": null,
            "_view_module": "@jupyter-widgets/controls",
            "_view_module_version": "1.5.0",
            "_view_name": "HTMLView",
            "description": "",
            "description_tooltip": null,
            "layout": "IPY_MODEL_25b2aeb711664186a32a1df3069a6123",
            "placeholder": "​",
            "style": "IPY_MODEL_28bb28926e4945b7a34c1f63f7fa9064",
            "value": "100%"
          }
        },
        "f3132de106ec477ea1e65d82945c9a53": {
          "model_module": "@jupyter-widgets/controls",
          "model_name": "FloatProgressModel",
          "model_module_version": "1.5.0",
          "state": {
            "_dom_classes": [],
            "_model_module": "@jupyter-widgets/controls",
            "_model_module_version": "1.5.0",
            "_model_name": "FloatProgressModel",
            "_view_count": null,
            "_view_module": "@jupyter-widgets/controls",
            "_view_module_version": "1.5.0",
            "_view_name": "ProgressView",
            "bar_style": "success",
            "description": "",
            "description_tooltip": null,
            "layout": "IPY_MODEL_91e635fa50de44c99e0bfb468b5d848e",
            "max": 1648877,
            "min": 0,
            "orientation": "horizontal",
            "style": "IPY_MODEL_4d1eaff616bb4c89a6f75f27dd6f4889",
            "value": 1648877
          }
        },
        "c27848f08d9f43079b7769ae79ca6bf2": {
          "model_module": "@jupyter-widgets/controls",
          "model_name": "HTMLModel",
          "model_module_version": "1.5.0",
          "state": {
            "_dom_classes": [],
            "_model_module": "@jupyter-widgets/controls",
            "_model_module_version": "1.5.0",
            "_model_name": "HTMLModel",
            "_view_count": null,
            "_view_module": "@jupyter-widgets/controls",
            "_view_module_version": "1.5.0",
            "_view_name": "HTMLView",
            "description": "",
            "description_tooltip": null,
            "layout": "IPY_MODEL_a1750a65f92949abbe63d16821dd9f68",
            "placeholder": "​",
            "style": "IPY_MODEL_66042da0eb564c909763f82b3211ae53",
            "value": " 1648877/1648877 [00:00&lt;00:00, 19600533.37it/s]"
          }
        },
        "2a85c6ddd7d344be9d7d9d4abe68b875": {
          "model_module": "@jupyter-widgets/base",
          "model_name": "LayoutModel",
          "model_module_version": "1.2.0",
          "state": {
            "_model_module": "@jupyter-widgets/base",
            "_model_module_version": "1.2.0",
            "_model_name": "LayoutModel",
            "_view_count": null,
            "_view_module": "@jupyter-widgets/base",
            "_view_module_version": "1.2.0",
            "_view_name": "LayoutView",
            "align_content": null,
            "align_items": null,
            "align_self": null,
            "border": null,
            "bottom": null,
            "display": null,
            "flex": null,
            "flex_flow": null,
            "grid_area": null,
            "grid_auto_columns": null,
            "grid_auto_flow": null,
            "grid_auto_rows": null,
            "grid_column": null,
            "grid_gap": null,
            "grid_row": null,
            "grid_template_areas": null,
            "grid_template_columns": null,
            "grid_template_rows": null,
            "height": null,
            "justify_content": null,
            "justify_items": null,
            "left": null,
            "margin": null,
            "max_height": null,
            "max_width": null,
            "min_height": null,
            "min_width": null,
            "object_fit": null,
            "object_position": null,
            "order": null,
            "overflow": null,
            "overflow_x": null,
            "overflow_y": null,
            "padding": null,
            "right": null,
            "top": null,
            "visibility": null,
            "width": null
          }
        },
        "25b2aeb711664186a32a1df3069a6123": {
          "model_module": "@jupyter-widgets/base",
          "model_name": "LayoutModel",
          "model_module_version": "1.2.0",
          "state": {
            "_model_module": "@jupyter-widgets/base",
            "_model_module_version": "1.2.0",
            "_model_name": "LayoutModel",
            "_view_count": null,
            "_view_module": "@jupyter-widgets/base",
            "_view_module_version": "1.2.0",
            "_view_name": "LayoutView",
            "align_content": null,
            "align_items": null,
            "align_self": null,
            "border": null,
            "bottom": null,
            "display": null,
            "flex": null,
            "flex_flow": null,
            "grid_area": null,
            "grid_auto_columns": null,
            "grid_auto_flow": null,
            "grid_auto_rows": null,
            "grid_column": null,
            "grid_gap": null,
            "grid_row": null,
            "grid_template_areas": null,
            "grid_template_columns": null,
            "grid_template_rows": null,
            "height": null,
            "justify_content": null,
            "justify_items": null,
            "left": null,
            "margin": null,
            "max_height": null,
            "max_width": null,
            "min_height": null,
            "min_width": null,
            "object_fit": null,
            "object_position": null,
            "order": null,
            "overflow": null,
            "overflow_x": null,
            "overflow_y": null,
            "padding": null,
            "right": null,
            "top": null,
            "visibility": null,
            "width": null
          }
        },
        "28bb28926e4945b7a34c1f63f7fa9064": {
          "model_module": "@jupyter-widgets/controls",
          "model_name": "DescriptionStyleModel",
          "model_module_version": "1.5.0",
          "state": {
            "_model_module": "@jupyter-widgets/controls",
            "_model_module_version": "1.5.0",
            "_model_name": "DescriptionStyleModel",
            "_view_count": null,
            "_view_module": "@jupyter-widgets/base",
            "_view_module_version": "1.2.0",
            "_view_name": "StyleView",
            "description_width": ""
          }
        },
        "91e635fa50de44c99e0bfb468b5d848e": {
          "model_module": "@jupyter-widgets/base",
          "model_name": "LayoutModel",
          "model_module_version": "1.2.0",
          "state": {
            "_model_module": "@jupyter-widgets/base",
            "_model_module_version": "1.2.0",
            "_model_name": "LayoutModel",
            "_view_count": null,
            "_view_module": "@jupyter-widgets/base",
            "_view_module_version": "1.2.0",
            "_view_name": "LayoutView",
            "align_content": null,
            "align_items": null,
            "align_self": null,
            "border": null,
            "bottom": null,
            "display": null,
            "flex": null,
            "flex_flow": null,
            "grid_area": null,
            "grid_auto_columns": null,
            "grid_auto_flow": null,
            "grid_auto_rows": null,
            "grid_column": null,
            "grid_gap": null,
            "grid_row": null,
            "grid_template_areas": null,
            "grid_template_columns": null,
            "grid_template_rows": null,
            "height": null,
            "justify_content": null,
            "justify_items": null,
            "left": null,
            "margin": null,
            "max_height": null,
            "max_width": null,
            "min_height": null,
            "min_width": null,
            "object_fit": null,
            "object_position": null,
            "order": null,
            "overflow": null,
            "overflow_x": null,
            "overflow_y": null,
            "padding": null,
            "right": null,
            "top": null,
            "visibility": null,
            "width": null
          }
        },
        "4d1eaff616bb4c89a6f75f27dd6f4889": {
          "model_module": "@jupyter-widgets/controls",
          "model_name": "ProgressStyleModel",
          "model_module_version": "1.5.0",
          "state": {
            "_model_module": "@jupyter-widgets/controls",
            "_model_module_version": "1.5.0",
            "_model_name": "ProgressStyleModel",
            "_view_count": null,
            "_view_module": "@jupyter-widgets/base",
            "_view_module_version": "1.2.0",
            "_view_name": "StyleView",
            "bar_color": null,
            "description_width": ""
          }
        },
        "a1750a65f92949abbe63d16821dd9f68": {
          "model_module": "@jupyter-widgets/base",
          "model_name": "LayoutModel",
          "model_module_version": "1.2.0",
          "state": {
            "_model_module": "@jupyter-widgets/base",
            "_model_module_version": "1.2.0",
            "_model_name": "LayoutModel",
            "_view_count": null,
            "_view_module": "@jupyter-widgets/base",
            "_view_module_version": "1.2.0",
            "_view_name": "LayoutView",
            "align_content": null,
            "align_items": null,
            "align_self": null,
            "border": null,
            "bottom": null,
            "display": null,
            "flex": null,
            "flex_flow": null,
            "grid_area": null,
            "grid_auto_columns": null,
            "grid_auto_flow": null,
            "grid_auto_rows": null,
            "grid_column": null,
            "grid_gap": null,
            "grid_row": null,
            "grid_template_areas": null,
            "grid_template_columns": null,
            "grid_template_rows": null,
            "height": null,
            "justify_content": null,
            "justify_items": null,
            "left": null,
            "margin": null,
            "max_height": null,
            "max_width": null,
            "min_height": null,
            "min_width": null,
            "object_fit": null,
            "object_position": null,
            "order": null,
            "overflow": null,
            "overflow_x": null,
            "overflow_y": null,
            "padding": null,
            "right": null,
            "top": null,
            "visibility": null,
            "width": null
          }
        },
        "66042da0eb564c909763f82b3211ae53": {
          "model_module": "@jupyter-widgets/controls",
          "model_name": "DescriptionStyleModel",
          "model_module_version": "1.5.0",
          "state": {
            "_model_module": "@jupyter-widgets/controls",
            "_model_module_version": "1.5.0",
            "_model_name": "DescriptionStyleModel",
            "_view_count": null,
            "_view_module": "@jupyter-widgets/base",
            "_view_module_version": "1.2.0",
            "_view_name": "StyleView",
            "description_width": ""
          }
        },
        "2490f511b7744d1c8d4222f6f59a5e91": {
          "model_module": "@jupyter-widgets/controls",
          "model_name": "HBoxModel",
          "model_module_version": "1.5.0",
          "state": {
            "_dom_classes": [],
            "_model_module": "@jupyter-widgets/controls",
            "_model_module_version": "1.5.0",
            "_model_name": "HBoxModel",
            "_view_count": null,
            "_view_module": "@jupyter-widgets/controls",
            "_view_module_version": "1.5.0",
            "_view_name": "HBoxView",
            "box_style": "",
            "children": [
              "IPY_MODEL_4a765a06cb414bbf9101ace906858f01",
              "IPY_MODEL_bc5faedbe27643049c461ddd45023ae9",
              "IPY_MODEL_417d02ef853a4616af8bdc0b6be8d7a7"
            ],
            "layout": "IPY_MODEL_729231928eb34f9f8ed9ec6d48a01e17"
          }
        },
        "4a765a06cb414bbf9101ace906858f01": {
          "model_module": "@jupyter-widgets/controls",
          "model_name": "HTMLModel",
          "model_module_version": "1.5.0",
          "state": {
            "_dom_classes": [],
            "_model_module": "@jupyter-widgets/controls",
            "_model_module_version": "1.5.0",
            "_model_name": "HTMLModel",
            "_view_count": null,
            "_view_module": "@jupyter-widgets/controls",
            "_view_module_version": "1.5.0",
            "_view_name": "HTMLView",
            "description": "",
            "description_tooltip": null,
            "layout": "IPY_MODEL_6067028045ce4451959289fb7db544bb",
            "placeholder": "​",
            "style": "IPY_MODEL_d9d0025fc9574a5495bec4979109593c",
            "value": "100%"
          }
        },
        "bc5faedbe27643049c461ddd45023ae9": {
          "model_module": "@jupyter-widgets/controls",
          "model_name": "FloatProgressModel",
          "model_module_version": "1.5.0",
          "state": {
            "_dom_classes": [],
            "_model_module": "@jupyter-widgets/controls",
            "_model_module_version": "1.5.0",
            "_model_name": "FloatProgressModel",
            "_view_count": null,
            "_view_module": "@jupyter-widgets/controls",
            "_view_module_version": "1.5.0",
            "_view_name": "ProgressView",
            "bar_style": "success",
            "description": "",
            "description_tooltip": null,
            "layout": "IPY_MODEL_2a7e332ed6d6454ab6c71a0b3d5dcbfe",
            "max": 4542,
            "min": 0,
            "orientation": "horizontal",
            "style": "IPY_MODEL_4d1ceff3d3dc4d1c9cc309ab491aa354",
            "value": 4542
          }
        },
        "417d02ef853a4616af8bdc0b6be8d7a7": {
          "model_module": "@jupyter-widgets/controls",
          "model_name": "HTMLModel",
          "model_module_version": "1.5.0",
          "state": {
            "_dom_classes": [],
            "_model_module": "@jupyter-widgets/controls",
            "_model_module_version": "1.5.0",
            "_model_name": "HTMLModel",
            "_view_count": null,
            "_view_module": "@jupyter-widgets/controls",
            "_view_module_version": "1.5.0",
            "_view_name": "HTMLView",
            "description": "",
            "description_tooltip": null,
            "layout": "IPY_MODEL_c7e56ef969944699b0a20b7980fe1fbf",
            "placeholder": "​",
            "style": "IPY_MODEL_9a92303eae574ae8aa8125a9c9c84e13",
            "value": " 4542/4542 [00:00&lt;00:00, 79318.71it/s]"
          }
        },
        "729231928eb34f9f8ed9ec6d48a01e17": {
          "model_module": "@jupyter-widgets/base",
          "model_name": "LayoutModel",
          "model_module_version": "1.2.0",
          "state": {
            "_model_module": "@jupyter-widgets/base",
            "_model_module_version": "1.2.0",
            "_model_name": "LayoutModel",
            "_view_count": null,
            "_view_module": "@jupyter-widgets/base",
            "_view_module_version": "1.2.0",
            "_view_name": "LayoutView",
            "align_content": null,
            "align_items": null,
            "align_self": null,
            "border": null,
            "bottom": null,
            "display": null,
            "flex": null,
            "flex_flow": null,
            "grid_area": null,
            "grid_auto_columns": null,
            "grid_auto_flow": null,
            "grid_auto_rows": null,
            "grid_column": null,
            "grid_gap": null,
            "grid_row": null,
            "grid_template_areas": null,
            "grid_template_columns": null,
            "grid_template_rows": null,
            "height": null,
            "justify_content": null,
            "justify_items": null,
            "left": null,
            "margin": null,
            "max_height": null,
            "max_width": null,
            "min_height": null,
            "min_width": null,
            "object_fit": null,
            "object_position": null,
            "order": null,
            "overflow": null,
            "overflow_x": null,
            "overflow_y": null,
            "padding": null,
            "right": null,
            "top": null,
            "visibility": null,
            "width": null
          }
        },
        "6067028045ce4451959289fb7db544bb": {
          "model_module": "@jupyter-widgets/base",
          "model_name": "LayoutModel",
          "model_module_version": "1.2.0",
          "state": {
            "_model_module": "@jupyter-widgets/base",
            "_model_module_version": "1.2.0",
            "_model_name": "LayoutModel",
            "_view_count": null,
            "_view_module": "@jupyter-widgets/base",
            "_view_module_version": "1.2.0",
            "_view_name": "LayoutView",
            "align_content": null,
            "align_items": null,
            "align_self": null,
            "border": null,
            "bottom": null,
            "display": null,
            "flex": null,
            "flex_flow": null,
            "grid_area": null,
            "grid_auto_columns": null,
            "grid_auto_flow": null,
            "grid_auto_rows": null,
            "grid_column": null,
            "grid_gap": null,
            "grid_row": null,
            "grid_template_areas": null,
            "grid_template_columns": null,
            "grid_template_rows": null,
            "height": null,
            "justify_content": null,
            "justify_items": null,
            "left": null,
            "margin": null,
            "max_height": null,
            "max_width": null,
            "min_height": null,
            "min_width": null,
            "object_fit": null,
            "object_position": null,
            "order": null,
            "overflow": null,
            "overflow_x": null,
            "overflow_y": null,
            "padding": null,
            "right": null,
            "top": null,
            "visibility": null,
            "width": null
          }
        },
        "d9d0025fc9574a5495bec4979109593c": {
          "model_module": "@jupyter-widgets/controls",
          "model_name": "DescriptionStyleModel",
          "model_module_version": "1.5.0",
          "state": {
            "_model_module": "@jupyter-widgets/controls",
            "_model_module_version": "1.5.0",
            "_model_name": "DescriptionStyleModel",
            "_view_count": null,
            "_view_module": "@jupyter-widgets/base",
            "_view_module_version": "1.2.0",
            "_view_name": "StyleView",
            "description_width": ""
          }
        },
        "2a7e332ed6d6454ab6c71a0b3d5dcbfe": {
          "model_module": "@jupyter-widgets/base",
          "model_name": "LayoutModel",
          "model_module_version": "1.2.0",
          "state": {
            "_model_module": "@jupyter-widgets/base",
            "_model_module_version": "1.2.0",
            "_model_name": "LayoutModel",
            "_view_count": null,
            "_view_module": "@jupyter-widgets/base",
            "_view_module_version": "1.2.0",
            "_view_name": "LayoutView",
            "align_content": null,
            "align_items": null,
            "align_self": null,
            "border": null,
            "bottom": null,
            "display": null,
            "flex": null,
            "flex_flow": null,
            "grid_area": null,
            "grid_auto_columns": null,
            "grid_auto_flow": null,
            "grid_auto_rows": null,
            "grid_column": null,
            "grid_gap": null,
            "grid_row": null,
            "grid_template_areas": null,
            "grid_template_columns": null,
            "grid_template_rows": null,
            "height": null,
            "justify_content": null,
            "justify_items": null,
            "left": null,
            "margin": null,
            "max_height": null,
            "max_width": null,
            "min_height": null,
            "min_width": null,
            "object_fit": null,
            "object_position": null,
            "order": null,
            "overflow": null,
            "overflow_x": null,
            "overflow_y": null,
            "padding": null,
            "right": null,
            "top": null,
            "visibility": null,
            "width": null
          }
        },
        "4d1ceff3d3dc4d1c9cc309ab491aa354": {
          "model_module": "@jupyter-widgets/controls",
          "model_name": "ProgressStyleModel",
          "model_module_version": "1.5.0",
          "state": {
            "_model_module": "@jupyter-widgets/controls",
            "_model_module_version": "1.5.0",
            "_model_name": "ProgressStyleModel",
            "_view_count": null,
            "_view_module": "@jupyter-widgets/base",
            "_view_module_version": "1.2.0",
            "_view_name": "StyleView",
            "bar_color": null,
            "description_width": ""
          }
        },
        "c7e56ef969944699b0a20b7980fe1fbf": {
          "model_module": "@jupyter-widgets/base",
          "model_name": "LayoutModel",
          "model_module_version": "1.2.0",
          "state": {
            "_model_module": "@jupyter-widgets/base",
            "_model_module_version": "1.2.0",
            "_model_name": "LayoutModel",
            "_view_count": null,
            "_view_module": "@jupyter-widgets/base",
            "_view_module_version": "1.2.0",
            "_view_name": "LayoutView",
            "align_content": null,
            "align_items": null,
            "align_self": null,
            "border": null,
            "bottom": null,
            "display": null,
            "flex": null,
            "flex_flow": null,
            "grid_area": null,
            "grid_auto_columns": null,
            "grid_auto_flow": null,
            "grid_auto_rows": null,
            "grid_column": null,
            "grid_gap": null,
            "grid_row": null,
            "grid_template_areas": null,
            "grid_template_columns": null,
            "grid_template_rows": null,
            "height": null,
            "justify_content": null,
            "justify_items": null,
            "left": null,
            "margin": null,
            "max_height": null,
            "max_width": null,
            "min_height": null,
            "min_width": null,
            "object_fit": null,
            "object_position": null,
            "order": null,
            "overflow": null,
            "overflow_x": null,
            "overflow_y": null,
            "padding": null,
            "right": null,
            "top": null,
            "visibility": null,
            "width": null
          }
        },
        "9a92303eae574ae8aa8125a9c9c84e13": {
          "model_module": "@jupyter-widgets/controls",
          "model_name": "DescriptionStyleModel",
          "model_module_version": "1.5.0",
          "state": {
            "_model_module": "@jupyter-widgets/controls",
            "_model_module_version": "1.5.0",
            "_model_name": "DescriptionStyleModel",
            "_view_count": null,
            "_view_module": "@jupyter-widgets/base",
            "_view_module_version": "1.2.0",
            "_view_name": "StyleView",
            "description_width": ""
          }
        }
      }
    },
    "accelerator": "GPU"
  },
  "nbformat": 4,
  "nbformat_minor": 5
}