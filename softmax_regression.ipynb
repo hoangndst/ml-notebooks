{
  "nbformat": 4,
  "nbformat_minor": 0,
  "metadata": {
    "colab": {
      "provenance": [],
      "authorship_tag": "ABX9TyPJdKwlvMb/GJGTwgfx4yFQ",
      "include_colab_link": true
    },
    "kernelspec": {
      "name": "python3",
      "display_name": "Python 3"
    },
    "language_info": {
      "name": "python"
    }
  },
  "cells": [
    {
      "cell_type": "markdown",
      "metadata": {
        "id": "view-in-github",
        "colab_type": "text"
      },
      "source": [
        "<a href=\"https://colab.research.google.com/github/hoangndst/ml-notebooks/blob/master/softmax_regression.ipynb\" target=\"_parent\"><img src=\"https://colab.research.google.com/assets/colab-badge.svg\" alt=\"Open In Colab\"/></a>"
      ]
    },
    {
      "cell_type": "markdown",
      "source": [
        "### 1. Multi-class classification với Logistic Regression và one-vs-rest.\n",
        "\n",
        "  <img src=\"https://machinelearningcoban.com/assets/13_softmax/onevsrest.png\" width='700px' alt='img1'/>\n",
        "  \\begin{equation}\n",
        "    a_i = \\text{sigmoid}(z_i) = \\text{sigmoid}(\\mathbf{w}_i^T\\mathbf{x})\n",
        "  \\end{equation}\n",
        "\n",
        "### 2. Mô hình Softmax Regression dưới dạng Neural network.\n",
        "  \\begin{equation}\n",
        "    a_i = \\frac{\\exp(z_i)}{\\sum_{j=1}^C \\exp(z_j)}, ~~ \\forall i = 1, 2, \\dots, C\n",
        "  \\end{equation}\n",
        "\n",
        "  <img src='https://machinelearningcoban.com/assets/13_softmax/softmax_nn.png' width='700px' />"
      ],
      "metadata": {
        "id": "0S6mywNepbtG"
      }
    },
    {
      "cell_type": "code",
      "source": [],
      "metadata": {
        "id": "W8tuX9jkrKME"
      },
      "execution_count": null,
      "outputs": []
    }
  ]
}