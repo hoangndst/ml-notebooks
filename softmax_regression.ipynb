{
  "nbformat": 4,
  "nbformat_minor": 0,
  "metadata": {
    "colab": {
      "provenance": [],
      "authorship_tag": "ABX9TyMXOadMHGgnoPMyBFJ1Gi3e",
      "include_colab_link": true
    },
    "kernelspec": {
      "name": "python3",
      "display_name": "Python 3"
    },
    "language_info": {
      "name": "python"
    }
  },
  "cells": [
    {
      "cell_type": "markdown",
      "metadata": {
        "id": "view-in-github",
        "colab_type": "text"
      },
      "source": [
        "<a href=\"https://colab.research.google.com/github/hoangndst/ml-notebooks/blob/master/softmax_regression.ipynb\" target=\"_parent\"><img src=\"https://colab.research.google.com/assets/colab-badge.svg\" alt=\"Open In Colab\"/></a>"
      ]
    },
    {
      "cell_type": "markdown",
      "source": [
        "### 1. Multi-class classification với Logistic Regression và one-vs-rest.\n",
        "\n",
        "  <img src=\"https://machinelearningcoban.com/assets/13_softmax/onevsrest.png\" width='700px' alt='img1'/>\n",
        "  \\begin{equation}\n",
        "    a_i = \\text{sigmoid}(z_i) = \\text{sigmoid}(\\mathbf{w}_i^T\\mathbf{x})\n",
        "  \\end{equation}\n",
        "\n",
        "### 2. Mô hình Softmax Regression dưới dạng Neural network.\n",
        "  \\begin{equation}\n",
        "    a_i = \\frac{\\exp(z_i)}{\\sum_{j=1}^C \\exp(z_j)}, ~~ \\forall i = 1, 2, \\dots, C\n",
        "  \\end{equation}\n",
        "\n",
        "  <img src='https://machinelearningcoban.com/assets/13_softmax/softmax_nn.png' width='700px' />"
      ],
      "metadata": {
        "id": "0S6mywNepbtG"
      }
    },
    {
      "cell_type": "markdown",
      "source": [
        "### Softmax function trong Python"
      ],
      "metadata": {
        "id": "z0czB4xFs8C8"
      }
    },
    {
      "cell_type": "code",
      "source": [
        "import numpy as np\n",
        "def softmax(Z):\n",
        "    e_Z = np.exp(Z)\n",
        "    return e_Z / e_Z.sum(axis=0)"
      ],
      "metadata": {
        "id": "W8tuX9jkrKME"
      },
      "execution_count": 18,
      "outputs": []
    },
    {
      "cell_type": "markdown",
      "source": [
        "### Hàm mất mát cho Softmax Regression\n",
        "\n",
        "\\begin{eqnarray}\n",
        "J(\\mathbf{W}; \\mathbf{X}, \\mathbf{Y}) = -\\sum_{i = 1}^N \\sum_{j = 1}^C y_{ji}\\log(a_{ji}) \\newline\n",
        "= -\\sum_{i = 1}^N \\sum_{j = 1}^C y_{ji}\\log\\left(\\frac{\\exp(\\mathbf{w}_j^T\\mathbf{x}_i)}{\\sum_{k=1}^C \\exp(\\mathbf{w}_k^T\\mathbf{x}_i)}\\right)\n",
        "\\end{eqnarray}\n",
        "\n",
        "\n",
        "### Tối ưu hàm mất mát\n",
        "- Ta sử dụng SGD\n",
        " \\begin{eqnarray}\n",
        "&=& -\\sum_{j = 1}^C y_{ji}\\log\\left(\\frac{\\exp(\\mathbf{w}_j^T\\mathbf{x}_i)}{\\sum_{k=1}^C \\exp(\\mathbf{w}_k^T\\mathbf{x}_i)}\\right) \\newline\n",
        "&=& -\\sum_{j=1}^C\\left(y_{ji} \\mathbf{w}_j^T\\mathbf{x}_i - y_{ji}\\log\\left(\\sum_{k=1}^C \\exp(\\mathbf{w}_k^T\\mathbf{x}_i)\\right)\\right) \\newline\n",
        "&=& -\\sum_{j=1}^C y_{ji} \\mathbf{w}_j^T\\mathbf{x}_i + \\log\\left(\\sum_{k=1}^C \\exp(\\mathbf{w}_k^T\\mathbf{x}_i)\\right) ~~ (3)\n",
        "\\end{eqnarray}\n",
        "\n",
        "- Trong biến đổi ở dòng cuối cùng, tôi đã sử dụng quan sát: $\\sum_{j=1}^C y_{ji} = 1$ vì nó là tổng các xác suất.\n",
        "- Tiếp theo ta sử dụng công thức:\n",
        "  \\begin{equation*}\n",
        "    \\frac{\\partial J_i(\\mathbf{W})}{\\partial \\mathbf{W}} = \\left[\\frac{\\partial J_i(\\mathbf{W})}{\\partial \\mathbf{w}_1}, \\frac{\\partial J_i(\\mathbf{W})}{\\partial \\mathbf{w}_2}, \\dots, \\frac{\\partial J_i(\\mathbf{W})}{\\partial \\mathbf{w}_C}    \\right]~~(4)\n",
        "  \\end{equation*}\n",
        "- Trong đó, gradient theo từng cột có thể tính được dựa theo $(3)$:\n",
        "  \\begin{eqnarray}\n",
        "\\frac{\\partial J_i(\\mathbf{W})}{\\partial \\mathbf{w}_j} &=& -y_{ji}\\mathbf{x}_i + \n",
        "\\frac{\\exp(\\mathbf{w}_j^T\\mathbf{x}_i)}{\\sum_{k = 1}^C \\exp(\\mathbf{w}_k^T\\mathbf{x}_i)}\\mathbf{x}_i \\newline\n",
        "&=& -y_{ji}\\mathbf{x}_i + a_{ji} \\mathbf{x}_i = \\mathbf{x}_i (a_{ji} - y_{ji}) \\newline\n",
        "&=& e_{ji}\\mathbf{x}_{i} ~(\\text{where}~ e_{ji} = a_{ji} - y_{ji}) ~~(5)\n",
        "\\end{eqnarray}\n",
        "- Đến đây ta đã được biểu thức rất đẹp rồi. Kết hợp $(4)$ và $(5)$:\n",
        "    \\begin{equation}\n",
        "        \\frac{\\partial J_i(\\mathbf{W})}{\\partial \\mathbf{W}} = \\mathbf{x}_i [e_{1i}, e_{2i}, \\dots, e_{Ci}] = \\mathbf{x}_i\\mathbf{e}_i^T\n",
        "    \\end{equation}\n",
        "- Từ đây ta cũng có thể suy ra rằng:\n",
        "    \\begin{equation}\n",
        "        \\frac{\\partial J(\\mathbf{W})}{\\partial \\mathbf{W}} = \\sum_{i=1}^N \\mathbf{x}_i\\mathbf{e}_i^T = \\mathbf{X}\\mathbf{E}^T\n",
        "    \\end{equation}\n",
        "### Công thức cập nhật cho ma trận trọng số:\n",
        "  \\begin{equation}\n",
        "    \\mathbf{W} = \\mathbf{W} +\\eta \\mathbf{x}_{i}(\\mathbf{y}_i - \\mathbf{a}_i)^T\n",
        "  \\end{equation}\n",
        "\n",
        "### Logistic Regression là một trường hợp đặt biệt của Softmax Regression"
      ],
      "metadata": {
        "id": "VSVgV8lQt80q"
      }
    },
    {
      "cell_type": "markdown",
      "source": [
        "### Ví dụ với Python"
      ],
      "metadata": {
        "id": "sc5MY0fs2qCo"
      }
    },
    {
      "cell_type": "code",
      "source": [
        "import numpy as np\n",
        "N = 2 # number of trainning sample\n",
        "d = 2 # data dimension\n",
        "C = 3 # number of classes\n",
        "\n",
        "X = np.random.randn(d, N)\n",
        "y = np.random.randint(0, 3, (N,))\n",
        "print('-- X: \\n', X)\n",
        "print('--y: \\n', y)\n",
        "mix_id = np.random.permutation(10)\n",
        "print(mix_id)\n"
      ],
      "metadata": {
        "colab": {
          "base_uri": "https://localhost:8080/"
        },
        "id": "C1kQWDfp2sjg",
        "outputId": "58c30d20-37fa-4fef-bd42-9d93705907b5"
      },
      "execution_count": 28,
      "outputs": [
        {
          "output_type": "stream",
          "name": "stdout",
          "text": [
            "-- X: \n",
            " [[2.13991714 0.65730956]\n",
            " [0.09954891 1.43434855]]\n",
            "--y: \n",
            " [1 2]\n",
            "[3 6 9 5 1 0 2 4 8 7]\n"
          ]
        }
      ]
    },
    {
      "cell_type": "markdown",
      "source": [
        "### Code Softmax Regression"
      ],
      "metadata": {
        "id": "sXtjczA8en7K"
      }
    },
    {
      "cell_type": "code",
      "source": [
        "def loss(X, Y, W):\n",
        "    A = softmax(W.T.dot(X))\n",
        "    return -np.num(Y*np.log(A))\n",
        "def grad(X, Y, W):\n",
        "    A = softmax(W.T.dot(X))\n",
        "    E = A - Y\n",
        "    return X.dot(E.T)"
      ],
      "metadata": {
        "id": "9LE5oF8DenbG"
      },
      "execution_count": 21,
      "outputs": []
    },
    {
      "cell_type": "code",
      "source": [
        "from scipy import sparse \n",
        "def convert_label(y, C=C):\n",
        "    \"\"\"\n",
        "    convert 1d label to matrix label\n",
        "    \"\"\"\n",
        "    Y = sparse.coo_matrix((np.ones_like(y), \n",
        "        (y, np.arange(len(y)))), shape = (C, len(y))).toarray()\n",
        "    return Y"
      ],
      "metadata": {
        "id": "OEJwOxK-i6Lh"
      },
      "execution_count": 23,
      "outputs": []
    },
    {
      "cell_type": "code",
      "source": [
        "def pred(W, X):\n",
        "    \"\"\"\n",
        "    predict output of each columns of X\n",
        "    Class of each x_i is determined by location of max probability\n",
        "    Note that class are indexed by [0, 1, 2, ...., C-1]\n",
        "    \"\"\"\n",
        "    A = softmax(W.T.dot(X))\n",
        "    return np.argmax(A, axis = 0)"
      ],
      "metadata": {
        "id": "WEn19IF2xXL8"
      },
      "execution_count": 47,
      "outputs": []
    },
    {
      "cell_type": "code",
      "source": [
        "def softmax_regression(X, y, W_init, lr, tol = 1e-4, max_count = 100000):\n",
        "    W = [W_init]\n",
        "    C = W_init.shape[1]\n",
        "    Y = convert_label(y, C=C)\n",
        "    it = 0\n",
        "    N = X.shape[1]\n",
        "    d = X.shape[0]\n",
        "    \n",
        "    count = 0\n",
        "    check_w_after = 20\n",
        "    while count < max_count:\n",
        "        mix_id = np.random.permutation(N)\n",
        "        for i in mix_id:\n",
        "            xi = X[:, i].reshape(d, 1)\n",
        "            yi = Y[:, i].reshape(C, 1)\n",
        "            ai = softmax(np.dot(W[-1].T, xi))\n",
        "            W_new = W[-1] + lr*xi.dot((yi - ai).T)\n",
        "            count += 1\n",
        "            if count % check_w_after == 0:\n",
        "                if np.linalg.norm(W_new - W[-check_w_after]) < tol:\n",
        "                    return W\n",
        "            W.append(W_new)\n",
        "        \n",
        "    return W\n"
      ],
      "metadata": {
        "id": "CgTgpSOhhqBC"
      },
      "execution_count": 43,
      "outputs": []
    },
    {
      "cell_type": "code",
      "source": [
        "means = [[2, 2], [8, 3], [3, 6]]\n",
        "cov = [[1, 0], [0, 1]]\n",
        "N = 500\n",
        "X0 = np.random.multivariate_normal(means[0], cov, N)\n",
        "X1 = np.random.multivariate_normal(means[1], cov, N)\n",
        "X2 = np.random.multivariate_normal(means[2], cov, N)\n",
        "\n",
        "X = np.concatenate((X0, X1, X2), axis = 0).T # each column is a datapoint\n",
        "X = np.concatenate((np.ones((1, 3*N)), X), axis = 0)\n",
        "C = 3\n",
        "\n",
        "original_label = np.asarray([0]*N + [1]*N + [2]*N).T\n",
        "print(X.shape)\n",
        "print(X)\n",
        "original_label\n",
        "Y = convert_label(original_label, C=C)\n",
        "print(X[:, 2].reshape(C, 1))\n",
        "print(Y[:, 2].reshape(C, 1))"
      ],
      "metadata": {
        "colab": {
          "base_uri": "https://localhost:8080/"
        },
        "id": "dHtR3VpG4h7j",
        "outputId": "548020b0-3e6e-4dd9-809c-ddcf75729bc0"
      },
      "execution_count": 41,
      "outputs": [
        {
          "output_type": "stream",
          "name": "stdout",
          "text": [
            "(3, 1500)\n",
            "[[1.         1.         1.         ... 1.         1.         1.        ]\n",
            " [2.15075281 0.73125727 1.35067731 ... 3.38081435 4.23699277 2.59902553]\n",
            " [1.57891543 3.29112017 2.48961572 ... 7.37871693 6.8338088  5.29546384]]\n",
            "[[1.        ]\n",
            " [1.35067731]\n",
            " [2.48961572]]\n",
            "[[1]\n",
            " [0]\n",
            " [0]]\n"
          ]
        }
      ]
    },
    {
      "cell_type": "code",
      "source": [
        "import matplotlib.pyplot as plt\n",
        "def display(X, label):\n",
        "    K = np.amax(label) + 1\n",
        "    X0 = X[:, label == 0]\n",
        "    X1 = X[:, label == 1]\n",
        "    X2 = X[:, label == 2]\n",
        "    \n",
        "    plt.plot(X0[0, :], X0[1, :], 'b^', markersize = 4, alpha = .8)\n",
        "    plt.plot(X1[0, :], X1[1, :], 'go', markersize = 4, alpha = .8)\n",
        "    plt.plot(X2[0, :], X2[1, :], 'rs', markersize = 4, alpha = .8)\n",
        "\n",
        "    plt.axis('equal')\n",
        "    # plt.axis('off')\n",
        "    plt.plot()\n",
        "    plt.show()\n",
        "    \n",
        "display(X[1:, :], original_label)"
      ],
      "metadata": {
        "colab": {
          "base_uri": "https://localhost:8080/",
          "height": 265
        },
        "id": "hvB-8pZ-5D_Q",
        "outputId": "53af0667-4db2-400f-b634-c816dd4293b3"
      },
      "execution_count": 14,
      "outputs": [
        {
          "output_type": "display_data",
          "data": {
            "text/plain": [
              "<Figure size 432x288 with 1 Axes>"
            ],
            "image/png": "[encoded data removed]"
          },
          "metadata": {
            "needs_background": "light"
          }
        }
      ]
    },
    {
      "cell_type": "code",
      "source": [
        "W_init = np.random.randn(X.shape[0], C)\n",
        "W = softmax_regression(X, original_label, W_init, lr=0.05)\n",
        "print(W[-1])"
      ],
      "metadata": {
        "colab": {
          "base_uri": "https://localhost:8080/"
        },
        "id": "gvKMiTAVrSm2",
        "outputId": "fabb33e3-1855-4e03-d4fb-b7e0a8538a7c"
      },
      "execution_count": 45,
      "outputs": [
        {
          "output_type": "stream",
          "name": "stdout",
          "text": [
            "[[12.5653861  -9.90570519 -4.449858  ]\n",
            " [-1.34491499  2.84894268 -0.4762535 ]\n",
            " [-1.93163    -1.01501018  1.69130137]]\n"
          ]
        }
      ]
    },
    {
      "cell_type": "code",
      "source": [
        "#Visualize \n",
        "# x_min, x_max = X[:, 1].min() - .5, X[:, 1].max() + .5\n",
        "# y_min, y_max = X[:, 2].min() - .5, X[:, 2].max() + .5\n",
        "# x_min, x_max = -4, 14\n",
        "# y_min, y_max = -4, 14\n",
        "\n",
        "xm = np.arange(-2, 11, 0.025)\n",
        "xlen = len(xm)\n",
        "ym = np.arange(-3, 10, 0.025)\n",
        "ylen = len(ym)\n",
        "xx, yy = np.meshgrid(xm, ym)\n",
        "\n",
        "\n",
        "# xx, yy = np.meshgrid(np.arange(x_min, x_max, h), np.arange(y_min, y_max, h))\n",
        "# xx.ravel(), yy.ravel()\n",
        "\n",
        "print(np.ones((1, xx.size)).shape)\n",
        "xx1 = xx.ravel().reshape(1, xx.size)\n",
        "yy1 = yy.ravel().reshape(1, yy.size)\n",
        "\n",
        "# print(xx.shape, yy.shape)\n",
        "XX = np.concatenate((np.ones((1, xx.size)), xx1, yy1), axis = 0)\n",
        "\n",
        "\n",
        "print(XX.shape)\n",
        "\n",
        "Z = pred(W[-1], XX)"
      ],
      "metadata": {
        "colab": {
          "base_uri": "https://localhost:8080/"
        },
        "id": "7xra4SJuxTMl",
        "outputId": "eae46af9-6965-43f7-8b7b-d6c3e54160de"
      },
      "execution_count": 48,
      "outputs": [
        {
          "output_type": "stream",
          "name": "stdout",
          "text": [
            "(1, 270400)\n",
            "(3, 270400)\n"
          ]
        }
      ]
    },
    {
      "cell_type": "code",
      "source": [
        "# Put the result into a color plot\n",
        "Z = Z.reshape(xx.shape)\n",
        "# plt.figure(1\n",
        "# plt.pcolormesh(xx, yy, Z, cmap='jet', alpha = .35)\n",
        "\n",
        "CS = plt.contourf(xx, yy, Z, 200, cmap='jet', alpha = .1)\n",
        "\n",
        "# Plot also the training points\n",
        "# plt.scatter(X[:, 1], X[:, 2], c=Y, edgecolors='k', cmap=plt.cm.Paired)\n",
        "plt.xlabel('Sepal length')\n",
        "plt.ylabel('Sepal width')\n",
        "\n",
        "plt.xlim(-2, 11)\n",
        "plt.ylim(-3, 10)\n",
        "plt.xticks(())\n",
        "plt.yticks(())\n",
        "plt.axis('equal')\n",
        "display(X[1:, :], original_label)\n",
        "# plt.savefig('ex1.png', bbox_inches='tight', dpi = 1000)\n",
        "plt.show()"
      ],
      "metadata": {
        "colab": {
          "base_uri": "https://localhost:8080/",
          "height": 262
        },
        "id": "lRRuLx5KxeZl",
        "outputId": "5b4e34dc-413c-4a4b-b050-beaaef484acd"
      },
      "execution_count": 55,
      "outputs": [
        {
          "output_type": "display_data",
          "data": {
            "text/plain": [
              "<Figure size 432x288 with 1 Axes>"
            ],
            "image/png": "[encoded data removed]"
          },
          "metadata": {}
        }
      ]
    }
  ]
}