{
  "cells": [
    {
      "cell_type": "code",
      "execution_count": 3,
      "id": "0f181604",
      "metadata": {
        "id": "0f181604"
      },
      "outputs": [],
      "source": [
        "from torchvision import datasets # MNIST datasets\n",
        "from torchvision.transforms import ToTensor # transform PIL image to torch.Tensor\n",
        "from torch import nn # neural network library\n",
        "import torch\n",
        "import matplotlib.pyplot as plt # print image\n",
        "from torch.utils.data import DataLoader # mini-batch loader\n",
        "import torch.nn.functional as F\n",
        "import numpy as np\n",
        "import math"
      ]
    },
    {
      "cell_type": "code",
      "source": [
        "!nvidia-smi"
      ],
      "metadata": {
        "colab": {
          "base_uri": "https://localhost:8080/"
        },
        "id": "Ackh2VCMtZru",
        "outputId": "c85e4635-a116-4fac-ee8e-033d64bae147"
      },
      "id": "Ackh2VCMtZru",
      "execution_count": 4,
      "outputs": [
        {
          "output_type": "stream",
          "name": "stdout",
          "text": [
            "Thu Oct 20 12:46:02 2022       \n",
            "+-----------------------------------------------------------------------------+\n",
            "| NVIDIA-SMI 460.32.03    Driver Version: 460.32.03    CUDA Version: 11.2     |\n",
            "|-------------------------------+----------------------+----------------------+\n",
            "| GPU  Name        Persistence-M| Bus-Id        Disp.A | Volatile Uncorr. ECC |\n",
            "| Fan  Temp  Perf  Pwr:Usage/Cap|         Memory-Usage | GPU-Util  Compute M. |\n",
            "|                               |                      |               MIG M. |\n",
            "|===============================+======================+======================|\n",
            "|   0  Tesla T4            Off  | 00000000:00:04.0 Off |                    0 |\n",
            "| N/A   60C    P8    10W /  70W |      0MiB / 15109MiB |      0%      Default |\n",
            "|                               |                      |                  N/A |\n",
            "+-------------------------------+----------------------+----------------------+\n",
            "                                                                               \n",
            "+-----------------------------------------------------------------------------+\n",
            "| Processes:                                                                  |\n",
            "|  GPU   GI   CI        PID   Type   Process name                  GPU Memory |\n",
            "|        ID   ID                                                   Usage      |\n",
            "|=============================================================================|\n",
            "|  No running processes found                                                 |\n",
            "+-----------------------------------------------------------------------------+\n"
          ]
        }
      ]
    },
    {
      "cell_type": "code",
      "execution_count": 5,
      "id": "a3292d0e",
      "metadata": {
        "scrolled": true,
        "id": "a3292d0e",
        "colab": {
          "base_uri": "https://localhost:8080/",
          "height": 440,
          "referenced_widgets": [
            "73bc66249c2f4561ad3b053c0c01008e",
            "647bc72a576547e9856f062c753f407b",
            "b1a6240cafc64b12b665218118b380b1",
            "6b96b355733c4db298969275b3c2edbe",
            "804eb50ba3944000835c851c54c087c5",
            "d68927c4ba3f45a1b5979b6a72f1bae4",
            "931e5e442b67432cb0f2897656a7b961",
            "ea24bb5f7bf74bc1938fa85066d378cd",
            "4926dba10f304e96b4e60052a638b932",
            "e9b1e2d4eadc47d7b9443a417934b6d1",
            "fcec583cb23540e7becdeeeed3621f4f",
            "aa531cf61e7445ab96f5ea6c55268b11",
            "b557c547e8a14574aec35992f45345ee",
            "abaeccc9e35c4fa99493b682683815bb",
            "30e10780ea2c4aa18c7fc88c339e6d76",
            "f7aab954d19145b290ca226baaf0cd44",
            "3baa4d108b314904a7636936cb32590e",
            "53da1f11a6ef4add97b695f4649bd045",
            "da57a2b937e346549e8b1dfd9a65a70c",
            "921e0cae239c4e6abb81f578087a3082",
            "de54260515d4434ca897b041c5113d60",
            "95e5e0becea04b82987413847ff7f877",
            "45b4f3abd4604bcca55f5931b91e39b3",
            "f05e218c8d73470bba1b9e04fb6ad166",
            "77c004452670459c993c8dddec2ac89c",
            "c2717efa8159454083b0b9e63f47a467",
            "badd5491f5154820858eab4c47f540b2",
            "4e54e1d9bc6c4c0a9c3fc9b874c15e7d",
            "2f8a8b8d1173457481660e333447652f",
            "9cfa1f48a3594a9b8869361b61f54bec",
            "cf6765e850f54864afd37e19f541695c",
            "17b49bf7cd6d4f599df15f965acd88a4",
            "f354c1d357eb4dbc9af3ab65304f248f",
            "97150a135372441e82f3d98bd781559a",
            "24ebd64e6b004ca085677ebfff9d1e7e",
            "ed7fb90466524a61bc0ea07ce7c521c7",
            "70caf2d3ee0245e0b166eefd9f2ea625",
            "8774eff0dc674e239522747e3af6bd62",
            "9998038429db460a8dddf0a98c58fd17",
            "0566a3b0b61d4912ab678b604164db27",
            "72de09159a084424bb0b44b9658fd854",
            "085cc40e65c04725a7bafbab72ca58d6",
            "2af30a70452f4466a1401260445f3ebe",
            "3b85b71ef1994641a52e91f73949f20d"
          ]
        },
        "outputId": "9dd5d966-f571-4a9b-efff-b75f46be7105"
      },
      "outputs": [
        {
          "output_type": "stream",
          "name": "stdout",
          "text": [
            "Downloading http://yann.lecun.com/exdb/mnist/train-images-idx3-ubyte.gz\n",
            "Downloading http://yann.lecun.com/exdb/mnist/train-images-idx3-ubyte.gz to ./data/MNIST/raw/train-images-idx3-ubyte.gz\n"
          ]
        },
        {
          "output_type": "display_data",
          "data": {
            "text/plain": [
              "  0%|          | 0/9912422 [00:00<?, ?it/s]"
            ],
            "application/vnd.jupyter.widget-view+json": {
              "version_major": 2,
              "version_minor": 0,
              "model_id": "73bc66249c2f4561ad3b053c0c01008e"
            }
          },
          "metadata": {}
        },
        {
          "output_type": "stream",
          "name": "stdout",
          "text": [
            "Extracting ./data/MNIST/raw/train-images-idx3-ubyte.gz to ./data/MNIST/raw\n",
            "\n",
            "Downloading http://yann.lecun.com/exdb/mnist/train-labels-idx1-ubyte.gz\n",
            "Downloading http://yann.lecun.com/exdb/mnist/train-labels-idx1-ubyte.gz to ./data/MNIST/raw/train-labels-idx1-ubyte.gz\n"
          ]
        },
        {
          "output_type": "display_data",
          "data": {
            "text/plain": [
              "  0%|          | 0/28881 [00:00<?, ?it/s]"
            ],
            "application/vnd.jupyter.widget-view+json": {
              "version_major": 2,
              "version_minor": 0,
              "model_id": "aa531cf61e7445ab96f5ea6c55268b11"
            }
          },
          "metadata": {}
        },
        {
          "output_type": "stream",
          "name": "stdout",
          "text": [
            "Extracting ./data/MNIST/raw/train-labels-idx1-ubyte.gz to ./data/MNIST/raw\n",
            "\n",
            "Downloading http://yann.lecun.com/exdb/mnist/t10k-images-idx3-ubyte.gz\n",
            "Downloading http://yann.lecun.com/exdb/mnist/t10k-images-idx3-ubyte.gz to ./data/MNIST/raw/t10k-images-idx3-ubyte.gz\n"
          ]
        },
        {
          "output_type": "display_data",
          "data": {
            "text/plain": [
              "  0%|          | 0/1648877 [00:00<?, ?it/s]"
            ],
            "application/vnd.jupyter.widget-view+json": {
              "version_major": 2,
              "version_minor": 0,
              "model_id": "45b4f3abd4604bcca55f5931b91e39b3"
            }
          },
          "metadata": {}
        },
        {
          "output_type": "stream",
          "name": "stdout",
          "text": [
            "Extracting ./data/MNIST/raw/t10k-images-idx3-ubyte.gz to ./data/MNIST/raw\n",
            "\n",
            "Downloading http://yann.lecun.com/exdb/mnist/t10k-labels-idx1-ubyte.gz\n",
            "Downloading http://yann.lecun.com/exdb/mnist/t10k-labels-idx1-ubyte.gz to ./data/MNIST/raw/t10k-labels-idx1-ubyte.gz\n"
          ]
        },
        {
          "output_type": "display_data",
          "data": {
            "text/plain": [
              "  0%|          | 0/4542 [00:00<?, ?it/s]"
            ],
            "application/vnd.jupyter.widget-view+json": {
              "version_major": 2,
              "version_minor": 0,
              "model_id": "97150a135372441e82f3d98bd781559a"
            }
          },
          "metadata": {}
        },
        {
          "output_type": "stream",
          "name": "stdout",
          "text": [
            "Extracting ./data/MNIST/raw/t10k-labels-idx1-ubyte.gz to ./data/MNIST/raw\n",
            "\n",
            "train 60000 test 10000\n"
          ]
        }
      ],
      "source": [
        "# training set\n",
        "train_ds = datasets.MNIST('./data', train=True, download=True, transform=ToTensor())\n",
        "# test set\n",
        "test_ds = datasets.MNIST('./data', train=False, download=True, transform=ToTensor())\n",
        "\n",
        "print(f\"train {len(train_ds)} test {len(test_ds)}\")"
      ]
    },
    {
      "cell_type": "code",
      "execution_count": 6,
      "id": "a8b6ac50",
      "metadata": {
        "id": "a8b6ac50",
        "colab": {
          "base_uri": "https://localhost:8080/"
        },
        "outputId": "e4673a2f-f11d-411e-c782-79046c1c27d6"
      },
      "outputs": [
        {
          "output_type": "stream",
          "name": "stdout",
          "text": [
            "input type <class 'torch.Tensor'>\n",
            "input size torch.Size([1, 28, 28])\n",
            "output type <class 'int'>\n",
            "target 5\n"
          ]
        }
      ],
      "source": [
        "# the first training sample\n",
        "x, y = train_ds[0]\n",
        "print(\"input type\", type(x))\n",
        "print(\"input size\", x.shape)\n",
        "print(\"output type\", type(y))\n",
        "print(\"target\", y)"
      ]
    },
    {
      "cell_type": "code",
      "execution_count": 7,
      "id": "80383cf1",
      "metadata": {
        "scrolled": true,
        "id": "80383cf1",
        "colab": {
          "base_uri": "https://localhost:8080/",
          "height": 543
        },
        "outputId": "7127b1d9-833b-423c-8b28-bddd2dbcd200"
      },
      "outputs": [
        {
          "output_type": "display_data",
          "data": {
            "text/plain": [
              "<Figure size 1440x720 with 16 Axes>"
            ],
            "image/png": "[encoded data removed]"
          },
          "metadata": {
            "needs_background": "light"
          }
        }
      ],
      "source": [
        "# plot a grid of samples with targets\n",
        "def plot_grid(ds, n):\n",
        "    ncols = 8\n",
        "    nrows = n // ncols + 1\n",
        "    plt.subplots(nrows, ncols, figsize=(20, 10))\n",
        "    for i, (x, y) in enumerate(ds):\n",
        "        plt.subplot(nrows, ncols, i+1)\n",
        "        plt.imshow(x[0], cmap=\"gray\")\n",
        "        plt.title(f'y={y:01d}')\n",
        "        if i >= n: \n",
        "            break\n",
        "\n",
        "plot_grid(train_ds, 10)"
      ]
    },
    {
      "cell_type": "markdown",
      "id": "065561ae",
      "metadata": {
        "id": "065561ae"
      },
      "source": [
        "## CNN basic"
      ]
    },
    {
      "cell_type": "markdown",
      "source": [
        "![picture](https://drive.google.com/uc?id=1Jz1tllPTE9y4klj7zlMA0TwlAz6jAMYN)"
      ],
      "metadata": {
        "id": "NARL9qpGogSi"
      },
      "id": "NARL9qpGogSi"
    },
    {
      "cell_type": "code",
      "execution_count": 30,
      "id": "86a61558",
      "metadata": {
        "id": "86a61558"
      },
      "outputs": [],
      "source": [
        "class CNN_Basic(nn.Module):\n",
        "    def __init__(self):\n",
        "        super(CNN_Basic, self).__init__()\n",
        "        self.conv1 = nn.Conv2d(1, 32, 3, 1, 1)\n",
        "        self.relu1 = nn.ReLU()\n",
        "        self.conv2 = nn.Conv2d(32, 64, 3, 1, 1)\n",
        "        self.relu2 = nn.ReLU()\n",
        "        self.dropout1 = nn.Dropout(0.25)\n",
        "        self.dropout2 = nn.Dropout(0.5)\n",
        "        self.fc1 = nn.Linear(3136, 128)\n",
        "        self.relu3 = nn.ReLU()\n",
        "        self.fc2 = nn.Linear(128, 10)\n",
        "\n",
        "    def forward(self, x):\n",
        "        x = self.conv1(x)\n",
        "        x = F.max_pool2d(x, 2)\n",
        "        x = self.relu1(x)\n",
        "        \n",
        "        x = self.conv2(x)\n",
        "        x = F.max_pool2d(x, 2)\n",
        "        x = self.relu2(x)\n",
        "        x = self.dropout1(x)\n",
        "        \n",
        "        x = torch.flatten(x, 1)\n",
        "        x = self.fc1(x)\n",
        "        x = self.relu3(x)\n",
        "        x = self.dropout2(x)\n",
        "        x = self.fc2(x)\n",
        "        return x"
      ]
    },
    {
      "cell_type": "code",
      "execution_count": 31,
      "id": "168ef372",
      "metadata": {
        "id": "168ef372",
        "colab": {
          "base_uri": "https://localhost:8080/"
        },
        "outputId": "c2964f0e-5efb-4724-c056-b834db9fa4e9"
      },
      "outputs": [
        {
          "output_type": "stream",
          "name": "stdout",
          "text": [
            "Image batch dimensions: torch.Size([16, 1, 28, 28])\n",
            "Image label dimensions: torch.Size([16])\n"
          ]
        }
      ],
      "source": [
        "# user DataLoader to create mini-batch\n",
        "batch_size = 16\n",
        "\n",
        "# training dataloader (with shuffling)\n",
        "train_dataloader = DataLoader(train_ds, batch_size=batch_size, shuffle=True, num_workers=2)\n",
        "\n",
        "# test dataloader (no shuffling)\n",
        "test_dataloader = DataLoader(test_ds, batch_size=batch_size, shuffle=False, num_workers=2)\n",
        "\n",
        "# Checking the dataset\n",
        "for images, labels in train_dataloader:  \n",
        "    print('Image batch dimensions:', images.shape)\n",
        "    print('Image label dimensions:', labels.shape)\n",
        "    break"
      ]
    },
    {
      "cell_type": "code",
      "execution_count": 32,
      "id": "2b9dec28",
      "metadata": {
        "id": "2b9dec28"
      },
      "outputs": [],
      "source": [
        "# test model with inputs\n",
        "model = CNN_Basic() # MLP\n",
        "\n",
        "# model = resnet18(num_classes=10, grayscale=True) # resnet\n",
        "\n",
        "# define cross entropy loss\n",
        "loss_func = nn.CrossEntropyLoss()\n",
        "\n",
        "# use Stochastic Gradient Descent optimizer\n",
        "arr_lr = [0.1, 0.01, 0.001]\n",
        "lr = arr_lr[1] # change learning_rate\n",
        "optimizer = torch.optim.Adam(model.parameters(), lr=1e-3)"
      ]
    },
    {
      "cell_type": "code",
      "execution_count": 33,
      "id": "49b6c086",
      "metadata": {
        "id": "49b6c086",
        "colab": {
          "base_uri": "https://localhost:8080/"
        },
        "outputId": "e59bffa7-5de2-4203-8345-d2e35d05e930"
      },
      "outputs": [
        {
          "output_type": "stream",
          "name": "stdout",
          "text": [
            "--------------------------------------------------\n",
            "Number of epoch: 5\n",
            "Learning rate: 0.01 -- Batch size: 16\n",
            "epoch 0 started\n",
            "epoch 0 accuracy 98.41%\n",
            "epoch 1 started\n",
            "epoch 1 accuracy 98.83%\n",
            "epoch 2 started\n",
            "epoch 2 accuracy 98.90%\n",
            "epoch 3 started\n",
            "epoch 3 accuracy 99.07%\n",
            "epoch 4 started\n",
            "epoch 4 accuracy 99.24%\n"
          ]
        }
      ],
      "source": [
        "# train with GPU\n",
        "n_epoch = 5\n",
        "\n",
        "# change epoch \n",
        "arr_num_epoch = [5, 10, 50, 100]\n",
        "for num_ep in arr_num_epoch:\n",
        "    print('-'*50)\n",
        "    print(f'Number of epoch: {num_ep}\\nLearning rate: {lr} -- Batch size: {batch_size}')\n",
        "    n_epoch = num_ep\n",
        "    model.cuda()\n",
        "    for epoch in range(n_epoch):\n",
        "\n",
        "        # training phase\n",
        "        model.train()\n",
        "        print(f\"epoch {epoch} started\")\n",
        "        for x, y in train_dataloader:\n",
        "            # compute output of the model on the mini-batch\n",
        "            x = x.cuda()\n",
        "            out = model(x)\n",
        "\n",
        "            # compute loss function\n",
        "            loss = loss_func(out, y.cuda())\n",
        "\n",
        "            # calculate derivative and do a gradient descent step\n",
        "            optimizer.zero_grad()\n",
        "            loss.backward()\n",
        "            optimizer.step()\n",
        "\n",
        "        # testing phase\n",
        "        model.eval()\n",
        "        total = len(test_ds)\n",
        "        total_correct = 0 # count number of correct predictions on test set\n",
        "\n",
        "        for x, y in test_dataloader:\n",
        "            with torch.no_grad(): # prevent gradient computation\n",
        "                x = x.cuda()\n",
        "                out = model(x)\n",
        "                # take the maximum output\n",
        "                pred = torch.argmax(out, dim=1)\n",
        "                # count the correct predictions\n",
        "                corrects = (pred == y.cuda()).sum().item()\n",
        "                total_correct += corrects\n",
        "\n",
        "        # compute test accuracy for this epoch\n",
        "        accuracy = total_correct / total\n",
        "        print(f\"epoch {epoch} accuracy {accuracy*100:.2f}%\")\n",
        "    break"
      ]
    },
    {
      "cell_type": "code",
      "execution_count": 34,
      "id": "89e2e9ff",
      "metadata": {
        "id": "89e2e9ff",
        "colab": {
          "base_uri": "https://localhost:8080/"
        },
        "outputId": "f1bda5c3-98d1-4da1-834e-12a2e7858e94"
      },
      "outputs": [
        {
          "output_type": "stream",
          "name": "stdout",
          "text": [
            "n_INCORRECT 76\n"
          ]
        }
      ],
      "source": [
        "# calculate prediction on test set\n",
        "ypred = []\n",
        "targets = []\n",
        "model.eval()\n",
        "with torch.no_grad():\n",
        "    for x, y in test_ds:\n",
        "        \n",
        "        # this is the code to do inference\n",
        "    #     x = x.view(len(x), -1).cuda()\n",
        "        x = x.unsqueeze(0).cuda() # append batch size\n",
        "        out = model(x)\n",
        "        pred = torch.argmax(out, dim=1).item()\n",
        "\n",
        "        # append the prediction results\n",
        "        ypred.append(pred)\n",
        "        targets.append(y)\n",
        "n_incorrect = sum([x != y for x, y in zip(targets, ypred)])\n",
        "print(\"n_INCORRECT\", n_incorrect)"
      ]
    },
    {
      "cell_type": "markdown",
      "id": "5deb733e",
      "metadata": {
        "id": "5deb733e"
      },
      "source": [
        "## Densenet"
      ]
    },
    {
      "cell_type": "markdown",
      "source": [
        "![picture](https://editor.analyticsvidhya.com/uploads/254293.png) DenseNet Architecture"
      ],
      "metadata": {
        "id": "RtCH4iTUrtwh"
      },
      "id": "RtCH4iTUrtwh"
    },
    {
      "cell_type": "markdown",
      "source": [
        "![picture](https://amaarora.github.io/images/densenet.png) \n",
        "Single layer"
      ],
      "metadata": {
        "id": "p2jUY_x2sOZX"
      },
      "id": "p2jUY_x2sOZX"
    },
    {
      "cell_type": "code",
      "execution_count": 35,
      "id": "ca10a082",
      "metadata": {
        "id": "ca10a082"
      },
      "outputs": [],
      "source": [
        "class SingleLayer(nn.Module):\n",
        "    def __init__(self, nChannels, growthRate):\n",
        "        super(SingleLayer, self).__init__()\n",
        "        self.bn1 = nn.BatchNorm2d(nChannels)\n",
        "        self.conv1 = nn.Conv2d(nChannels, growthRate, kernel_size=3,\n",
        "                               padding=1, bias=False)\n",
        "\n",
        "    def forward(self, x):\n",
        "        # implement here\n",
        "        # shape (batch_size, nChannels, num_feature, num_feature) -> (batch_size, growthRate, num_feature, num_feature)\n",
        "        # ex: batch_size - 16, nChannels = 24, growthRate = 12: (16, 24, 28, 28) -> (16, 12, 28, 28)\n",
        "        out = self.conv1(F.relu(self.bn1(x)))\n",
        "        # shape (batch_size, growthRate, num_feature, num_feature) -> (batch_size, (growthRate + nChannels), num_feature, num_feature)\n",
        "        out = torch.cat((x, out), 1)\n",
        "        return out"
      ]
    },
    {
      "cell_type": "code",
      "source": [
        "# test\n",
        "torch.manual_seed(20)\n",
        "x = torch.rand(16,24,28,28)\n",
        "layer = SingleLayer(24, 12)\n",
        "layer(x)"
      ],
      "metadata": {
        "id": "Mlu6KFvEPWfF"
      },
      "id": "Mlu6KFvEPWfF",
      "execution_count": null,
      "outputs": []
    },
    {
      "cell_type": "markdown",
      "source": [
        "![picture](https://drive.google.com/uc?id=1glh6rRmIleGiNlN56_fPlA_TVd731uPD)\n",
        "Bottle Neck layer"
      ],
      "metadata": {
        "id": "uI5dQKNIufJQ"
      },
      "id": "uI5dQKNIufJQ"
    },
    {
      "cell_type": "code",
      "execution_count": 36,
      "id": "f45ac131",
      "metadata": {
        "id": "f45ac131"
      },
      "outputs": [],
      "source": [
        "class Bottleneck(nn.Module):\n",
        "    def __init__(self, nChannels, growthRate):\n",
        "        super(Bottleneck, self).__init__()\n",
        "        interChannels = 4*growthRate\n",
        "        self.bn1 = nn.BatchNorm2d(nChannels)\n",
        "        self.conv1 = nn.Conv2d(nChannels, interChannels, kernel_size=1,\n",
        "                               bias=False)\n",
        "        self.bn2 = nn.BatchNorm2d(interChannels)\n",
        "        self.conv2 = nn.Conv2d(interChannels, growthRate, kernel_size=3,\n",
        "                               padding=1, bias=False)\n",
        "\n",
        "    def forward(self, x):\n",
        "        # implement here\n",
        "        # shape (batch_size, nChannels, num_feature, num_feature) -> (batch_size, growthRate*4, num_feature, num_feature)\n",
        "        out = self.conv1(F.relu(self.bn1(x)))\n",
        "        # shape (batch_size, growthRate*4, num_feature, num_feature) -> (batch_size, growthRate, num_feature, num_feature)\n",
        "        out = self.conv2(F.relu(self.bn2(out)))\n",
        "        # shape (batch_size, growthRate, num_feature, num_feature) -> (batch_size, (nChannels +growthRate), num_feature, num_feature)\n",
        "        out = torch.cat((x, out), 1)\n",
        "        return out"
      ]
    },
    {
      "cell_type": "code",
      "source": [
        "# test\n",
        "torch.manual_seed(20)\n",
        "x = torch.rand(16,24,28,28)\n",
        "layer = Bottleneck(24, 12)\n",
        "layer(x)"
      ],
      "metadata": {
        "id": "JI77TnuIUYOf"
      },
      "id": "JI77TnuIUYOf",
      "execution_count": null,
      "outputs": []
    },
    {
      "cell_type": "code",
      "execution_count": 37,
      "id": "77f9229b",
      "metadata": {
        "id": "77f9229b"
      },
      "outputs": [],
      "source": [
        "class Transition(nn.Module):\n",
        "    def __init__(self, nChannels, nOutChannels):\n",
        "        super(Transition, self).__init__()\n",
        "        self.bn1 = nn.BatchNorm2d(nChannels)\n",
        "        self.conv1 = nn.Conv2d(nChannels, nOutChannels, kernel_size=1,\n",
        "                               bias=False)\n",
        "\n",
        "    def forward(self, x):\n",
        "        out = self.conv1(F.relu(self.bn1(x)))\n",
        "        out = F.avg_pool2d(out, 2)\n",
        "        return out"
      ]
    },
    {
      "cell_type": "code",
      "execution_count": 41,
      "id": "af6e243f",
      "metadata": {
        "id": "af6e243f"
      },
      "outputs": [],
      "source": [
        "class DenseNet(nn.Module):\n",
        "    def __init__(self, growthRate, depth, reduction, nClasses, bottleneck):\n",
        "        \"\"\"\n",
        "        Parameters:\n",
        "            reduction: number of feature keep in a Block\n",
        "        \"\"\"\n",
        "        super(DenseNet, self).__init__()\n",
        "\n",
        "        nDenseBlocks = (depth-4) // 3\n",
        "        if bottleneck:\n",
        "            nDenseBlocks //= 2\n",
        "\n",
        "        nChannels = 2*growthRate\n",
        "        self.conv1 = nn.Conv2d(1, nChannels, kernel_size=3, padding=1,\n",
        "                               bias=False)\n",
        "        self.dense1 = self._make_dense(nChannels, growthRate, nDenseBlocks, bottleneck)\n",
        "        nChannels += nDenseBlocks*growthRate\n",
        "        nOutChannels = int(math.floor(nChannels*reduction))\n",
        "        self.trans1 = Transition(nChannels, nOutChannels)\n",
        "\n",
        "        nChannels = nOutChannels\n",
        "        self.dense2 = self._make_dense(nChannels, growthRate, nDenseBlocks, bottleneck)\n",
        "        nChannels += nDenseBlocks*growthRate\n",
        "        nOutChannels = int(math.floor(nChannels*reduction))\n",
        "        self.trans2 = Transition(nChannels, nOutChannels)\n",
        "\n",
        "        nChannels = nOutChannels\n",
        "        self.dense3 = self._make_dense(nChannels, growthRate, nDenseBlocks, bottleneck)\n",
        "        nChannels += nDenseBlocks*growthRate\n",
        "        \n",
        "        self.bn1 = nn.BatchNorm2d(nChannels)\n",
        "        self.fc = nn.Linear(nChannels, nClasses)\n",
        "\n",
        "        \n",
        "        # initialize bias and weight for each type of module\n",
        "        for m in self.modules():\n",
        "            if isinstance(m, nn.Conv2d):\n",
        "                n = m.kernel_size[0] * m.kernel_size[1] * m.out_channels\n",
        "                m.weight.data.normal_(0, math.sqrt(2. / n))\n",
        "            elif isinstance(m, nn.BatchNorm2d):\n",
        "                m.weight.data.fill_(1)\n",
        "                m.bias.data.zero_()\n",
        "            elif isinstance(m, nn.Linear):\n",
        "                m.bias.data.zero_()\n",
        "\n",
        "    def _make_dense(self, nChannels, growthRate, nDenseBlocks, bottleneck):\n",
        "        layers = []\n",
        "        for i in range(int(nDenseBlocks)):\n",
        "            if bottleneck:\n",
        "                layers.append(Bottleneck(nChannels, growthRate))\n",
        "            else:\n",
        "                layers.append(SingleLayer(nChannels, growthRate))\n",
        "            nChannels += growthRate\n",
        "        return nn.Sequential(*layers)\n",
        "\n",
        "    def forward(self, x):\n",
        "        # implement code here\n",
        "        # Example for one batch\n",
        "        # shape (16, 1, 28, 28) -> (16, 24, 28, 28) conv1\n",
        "        out = self.conv1(x)\n",
        "\n",
        "        # dense layer -> trans layer\n",
        "        # shape (16, 24, 28, 28) -> (16, 246, 14, 14) trans1\n",
        "        out = self.trans1(self.dense1(out))\n",
        "\n",
        "        # dense layer -> trans layer\n",
        "        # shape (16, 246, 14, 14)  -> [16, 357, 7, 7] trans2\n",
        "        out = self.trans2(self.dense2(out))\n",
        "\n",
        "        # shape [16, 357, 7, 7] -> [16, 825, 7, 7] dense3\n",
        "        out = self.dense3(out)\n",
        "\n",
        "        # BatchNorm -> Relu -> AvgPool2d\n",
        "        # shape [16, 825, 7, 7] -> [16, 825]\n",
        "        out = torch.squeeze(F.avg_pool2d(F.relu(self.bn1(out)), 8))\n",
        "        # shape [16, 825] -> [16, 10]\n",
        "        out = F.log_softmax(self.fc(out))\n",
        "        return out"
      ]
    },
    {
      "cell_type": "markdown",
      "id": "39b2cba7",
      "metadata": {
        "id": "39b2cba7"
      },
      "source": [
        "### Train Densenet with MMINST"
      ]
    },
    {
      "cell_type": "code",
      "execution_count": 42,
      "id": "5ced7c24",
      "metadata": {
        "id": "5ced7c24"
      },
      "outputs": [],
      "source": [
        "# test model with inputs\n",
        "model = DenseNet(growthRate=12, depth=121, reduction=0.5, nClasses=10, bottleneck=False) # MLP\n",
        "\n",
        "# model = resnet18(num_classes=10, grayscale=True) # resnet\n",
        "\n",
        "# define cross entropy loss\n",
        "loss_func = nn.CrossEntropyLoss()\n",
        "\n",
        "# use Stochastic Gradient Descent optimizer\n",
        "arr_lr = [0.1, 0.01, 0.001]\n",
        "lr = arr_lr[1] # change learning_rate\n",
        "optimizer = torch.optim.SGD(model.parameters(), lr=lr)"
      ]
    },
    {
      "cell_type": "code",
      "execution_count": null,
      "id": "e93288b8",
      "metadata": {
        "scrolled": true,
        "id": "e93288b8"
      },
      "outputs": [],
      "source": [
        "# train with GPU\n",
        "n_epoch = 5\n",
        "\n",
        "# change epoch \n",
        "arr_num_epoch = [5, 10, 50, 100]\n",
        "for num_ep in arr_num_epoch:\n",
        "    print('-'*50)\n",
        "    print(f'Number of epoch: {num_ep}\\nLearning rate: {lr} -- Batch size: {batch_size}')\n",
        "    n_epoch = num_ep\n",
        "    model.cuda()\n",
        "    for epoch in range(n_epoch):\n",
        "\n",
        "        # training phase\n",
        "        model.train()\n",
        "        print(f\"epoch {epoch} started\")\n",
        "        for x, y in train_dataloader:\n",
        "            # compute output of the model on the mini-batch\n",
        "            x = x.cuda()\n",
        "            out = model(x)\n",
        "            # compute loss function\n",
        "            loss = loss_func(out, y.cuda())\n",
        "\n",
        "            # calculate derivative and do a gradient descent step\n",
        "            optimizer.zero_grad()\n",
        "            loss.backward()\n",
        "            optimizer.step()\n",
        "\n",
        "        # testing phase\n",
        "        model.eval()\n",
        "        total = len(test_ds)\n",
        "        total_correct = 0 # count number of correct predictions on test set\n",
        "\n",
        "        for x, y in test_dataloader:\n",
        "            with torch.no_grad(): # prevent gradient computation\n",
        "                x = x.cuda()\n",
        "                out = model(x)\n",
        "                # take the maximum output\n",
        "                pred = torch.argmax(out, dim=1)\n",
        "                # count the correct predictions\n",
        "                corrects = (pred == y.cuda()).sum().item()\n",
        "                total_correct += corrects\n",
        "\n",
        "        # compute test accuracy for this epoch\n",
        "        accuracy = total_correct / total\n",
        "        print(f\"epoch {epoch} accuracy {accuracy*100:.2f}%\")\n",
        "    break"
      ]
    },
    {
      "cell_type": "markdown",
      "source": [
        "#Excercises\n",
        "1. Try ResNet18, ResNet34, ResNet50. What are differences once using these backbones? \n",
        "2. Try InceptionNet\n",
        "3. What is Conv1x1? What is its advantages?"
      ],
      "metadata": {
        "id": "f3PcTmuA2SBu"
      },
      "id": "f3PcTmuA2SBu"
    },
    {
      "cell_type": "code",
      "source": [
        "def conv3x3(in_planes, out_planes, stride=1):\n",
        "    \"\"\"3x3 convolution with padding\"\"\"\n",
        "    return nn.Conv2d(in_planes, out_planes, kernel_size=3, stride=stride,\n",
        "                     padding=1, bias=False)"
      ],
      "metadata": {
        "id": "f0LlNhAUfUOS"
      },
      "id": "f0LlNhAUfUOS",
      "execution_count": 1,
      "outputs": []
    },
    {
      "cell_type": "code",
      "source": [
        "class BasicBlock(nn.Module):\n",
        "    expansion = 1\n",
        "\n",
        "    def __init__(self, inplanes, planes, stride=1, downsample=None):\n",
        "        super(BasicBlock, self).__init__()\n",
        "        self.conv1 = conv3x3(inplanes, planes, stride)\n",
        "        self.bn1 = nn.BatchNorm2d(planes)\n",
        "        self.relu = nn.ReLU(inplace=True)\n",
        "        self.conv2 = conv3x3(planes, planes)\n",
        "        self.bn2 = nn.BatchNorm2d(planes)\n",
        "        self.downsample = downsample\n",
        "        self.stride = stride\n",
        "\n",
        "    def forward(self, x):\n",
        "        residual = x\n",
        "\n",
        "        out = self.conv1(x)\n",
        "        out = self.bn1(out)\n",
        "        out = self.relu(out)\n",
        "\n",
        "        out = self.conv2(out)\n",
        "        out = self.bn2(out)\n",
        "\n",
        "        if self.downsample is not None:\n",
        "            residual = self.downsample(x)\n",
        "\n",
        "        out += residual\n",
        "        out = self.relu(out)\n",
        "\n",
        "        return out"
      ],
      "metadata": {
        "id": "eISJ24mFriRb"
      },
      "id": "eISJ24mFriRb",
      "execution_count": 8,
      "outputs": []
    },
    {
      "cell_type": "code",
      "source": [
        "class Bottleneck(nn.Module):\n",
        "    expansion = 4\n",
        "\n",
        "    def __init__(self, inplanes, planes, stride=1, downsample=None):\n",
        "        super(Bottleneck, self).__init__()\n",
        "        self.conv1 = nn.Conv2d(inplanes, planes, kernel_size=1, bias=False)\n",
        "        self.bn1 = nn.BatchNorm2d(planes)\n",
        "        self.conv2 = nn.Conv2d(planes, planes, kernel_size=3, stride=stride,\n",
        "                               padding=1, bias=False)\n",
        "        self.bn2 = nn.BatchNorm2d(planes)\n",
        "        self.conv3 = nn.Conv2d(planes, planes * 4, kernel_size=1, bias=False)\n",
        "        self.bn3 = nn.BatchNorm2d(planes * 4)\n",
        "        self.relu = nn.ReLU(inplace=True)\n",
        "        self.downsample = downsample\n",
        "        self.stride = stride\n",
        "\n",
        "    def forward(self, x):\n",
        "        residual = x\n",
        "\n",
        "        out = self.conv1(x)\n",
        "        out = self.bn1(out)\n",
        "        out = self.relu(out)\n",
        "\n",
        "        out = self.conv2(out)\n",
        "        out = self.bn2(out)\n",
        "        out = self.relu(out)\n",
        "\n",
        "        out = self.conv3(out)\n",
        "        out = self.bn3(out)\n",
        "\n",
        "        if self.downsample is not None:\n",
        "            residual = self.downsample(x)\n",
        "\n",
        "        out += residual\n",
        "        out = self.relu(out)\n",
        "\n",
        "        return out"
      ],
      "metadata": {
        "id": "a1y_eAP7rjmo"
      },
      "id": "a1y_eAP7rjmo",
      "execution_count": 9,
      "outputs": []
    },
    {
      "cell_type": "code",
      "source": [
        "class ResNet(nn.Module):\n",
        "\n",
        "    def __init__(self, block, layers, num_classes=1000, grayscale=False):\n",
        "        self.inplanes = 64\n",
        "        if grayscale:\n",
        "            in_dim = 1\n",
        "        else:\n",
        "            in_dim = 3\n",
        "        super(ResNet, self).__init__()\n",
        "        self.conv1 = nn.Conv2d(in_dim, 64, kernel_size=7, stride=2, padding=3,\n",
        "                               bias=False)\n",
        "        self.bn1 = nn.BatchNorm2d(64)\n",
        "        self.relu = nn.ReLU(inplace=True)\n",
        "        self.maxpool = nn.MaxPool2d(kernel_size=3, stride=2, padding=1)\n",
        "        self.layer1 = self._make_layer(block, 64, layers[0])\n",
        "        self.layer2 = self._make_layer(block, 128, layers[1], stride=2)\n",
        "        self.layer3 = self._make_layer(block, 256, layers[2], stride=2)\n",
        "        self.layer4 = self._make_layer(block, 512, layers[3], stride=2)\n",
        "        self.avgpool = nn.AvgPool2d(7, stride=1)\n",
        "        self.fc = nn.Linear(512 * block.expansion, num_classes)\n",
        "\n",
        "        for m in self.modules():\n",
        "            if isinstance(m, nn.Conv2d):\n",
        "                n = m.kernel_size[0] * m.kernel_size[1] * m.out_channels\n",
        "                m.weight.data.normal_(0, math.sqrt(2. / n))\n",
        "            elif isinstance(m, nn.BatchNorm2d):\n",
        "                m.weight.data.fill_(1)\n",
        "                m.bias.data.zero_()\n",
        "\n",
        "    def _make_layer(self, block, planes, blocks, stride=1):\n",
        "        downsample = None\n",
        "        if stride != 1 or self.inplanes != planes * block.expansion:\n",
        "            downsample = nn.Sequential(\n",
        "                nn.Conv2d(self.inplanes, planes * block.expansion,\n",
        "                          kernel_size=1, stride=stride, bias=False),\n",
        "                nn.BatchNorm2d(planes * block.expansion),\n",
        "            )\n",
        "\n",
        "        layers = []\n",
        "        layers.append(block(self.inplanes, planes, stride, downsample))\n",
        "        self.inplanes = planes * block.expansion\n",
        "        for i in range(1, blocks):\n",
        "            layers.append(block(self.inplanes, planes))\n",
        "\n",
        "        return nn.Sequential(*layers)\n",
        "\n",
        "    def forward(self, x):\n",
        "        x = self.conv1(x)\n",
        "        x = self.bn1(x)\n",
        "        x = self.relu(x)\n",
        "        x = self.maxpool(x)\n",
        "\n",
        "        x = self.layer1(x)\n",
        "        x = self.layer2(x)\n",
        "        x = self.layer3(x)\n",
        "        x = self.layer4(x)\n",
        "        # MNIST is already 1x1 disable avgpool\n",
        "        # x = self.avgpool(x)\n",
        "        x = x.view(x.size(0), -1)\n",
        "        x = self.fc(x)\n",
        "\n",
        "        return x"
      ],
      "metadata": {
        "id": "z5cRDyo7rnI1"
      },
      "id": "z5cRDyo7rnI1",
      "execution_count": 10,
      "outputs": []
    },
    {
      "cell_type": "code",
      "source": [
        "def resnet18(num_classes, grayscale):\n",
        "    \"\"\"Constructs a ResNet-18 model.\"\"\"\n",
        "    model = ResNet(BasicBlock, layers=[2, 2, 2, 2], num_classes=num_classes, grayscale=grayscale)\n",
        "    return model\n",
        "\n",
        "def resnet34(num_classes, grayscale):\n",
        "    \"\"\"Constructs a ResNet-34 model.\"\"\"\n",
        "    model = ResNet(BasicBlock, [3, 4, 6, 3], num_classes=num_classes, grayscale=grayscale)\n",
        "    return model\n",
        "\n",
        "def resnet50(num_classes, grayscale):\n",
        "    \"\"\"Constructs a ResNet-50 model.\"\"\"\n",
        "    model = ResNet(Bottleneck, [3, 4, 6, 3], num_classes=num_classes, grayscale=grayscale)\n",
        "    return model"
      ],
      "metadata": {
        "id": "S5xdjBnHrsHA"
      },
      "id": "S5xdjBnHrsHA",
      "execution_count": 11,
      "outputs": []
    },
    {
      "cell_type": "code",
      "source": [
        "batch_size = 16\n",
        "train_dataset = datasets.MNIST(root='data', train=True, transform=ToTensor(), download=True)\n",
        "test_dataset = datasets.MNIST(root='data', train=False, transform=ToTensor())\n",
        "\n",
        "\n",
        "train_dataloader = DataLoader(dataset=train_dataset, batch_size=batch_size, shuffle=True)\n",
        "test_dataloader = DataLoader(dataset=test_dataset, batch_size=batch_size, shuffle=False)\n",
        "\n",
        "# Checking the dataset\n",
        "for images, labels in train_dataloader:  \n",
        "    print('Image batch dimensions:', images.shape)\n",
        "    print('Image label dimensions:', labels.shape)\n",
        "    break"
      ],
      "metadata": {
        "colab": {
          "base_uri": "https://localhost:8080/"
        },
        "id": "Lu47bSELuaaq",
        "outputId": "78f4efa6-3ccf-4129-d2fc-792dad028e42"
      },
      "id": "Lu47bSELuaaq",
      "execution_count": 12,
      "outputs": [
        {
          "output_type": "stream",
          "name": "stdout",
          "text": [
            "Image batch dimensions: torch.Size([16, 1, 28, 28])\n",
            "Image label dimensions: torch.Size([16])\n"
          ]
        }
      ]
    },
    {
      "cell_type": "code",
      "source": [
        "model = resnet18(10, True) # resnet\n",
        "arr_lr = [0.1, 0.01, 0.001]\n",
        "lr = arr_lr[1] # change learning_rate\n",
        "loss_func = nn.CrossEntropyLoss()\n",
        "\n",
        "# optimizer = torch.optim.SGD(model.parameters(), lr=lr)\n",
        "optimizer = torch.optim.Adam(model.parameters(), lr=lr)  "
      ],
      "metadata": {
        "id": "_yfUaw-ct6Kh"
      },
      "id": "_yfUaw-ct6Kh",
      "execution_count": 15,
      "outputs": []
    },
    {
      "cell_type": "code",
      "source": [
        "# train with GPU\n",
        "n_epoch = 5\n",
        "\n",
        "# change epoch \n",
        "arr_num_epoch = [5, 10, 50, 100]\n",
        "for num_ep in arr_num_epoch:\n",
        "    print('-'*50)\n",
        "    print(f'Number of epoch: {num_ep}\\nLearning rate: {lr} -- Batch size: {batch_size}')\n",
        "    n_epoch = num_ep\n",
        "    model.cuda()\n",
        "    for epoch in range(n_epoch):\n",
        "\n",
        "        # training phase\n",
        "        model.train()\n",
        "        print(f\"epoch {epoch} started\")\n",
        "        for x, y in train_dataloader:\n",
        "            # compute output of the model on the mini-batch\n",
        "            x = x.cuda()\n",
        "            out = model(x)\n",
        "            # compute loss function\n",
        "            loss = loss_func(out, y.cuda())\n",
        "\n",
        "            # calculate derivative and do a gradient descent step\n",
        "            optimizer.zero_grad()\n",
        "            loss.backward()\n",
        "            optimizer.step()\n",
        "\n",
        "        # testing phase\n",
        "        model.eval()\n",
        "        total = len(test_ds)\n",
        "        total_correct = 0 # count number of correct predictions on test set\n",
        "\n",
        "        for x, y in test_dataloader:\n",
        "            with torch.no_grad(): # prevent gradient computation\n",
        "                x = x.cuda()\n",
        "                out = model(x)\n",
        "                # take the maximum output\n",
        "                pred = torch.argmax(out, dim=1)\n",
        "                # count the correct predictions\n",
        "                corrects = (pred == y.cuda()).sum().item()\n",
        "                total_correct += corrects\n",
        "\n",
        "        # compute test accuracy for this epoch\n",
        "        accuracy = total_correct / total\n",
        "        print(f\"epoch {epoch} accuracy {accuracy*100:.2f}%\")\n",
        "    break"
      ],
      "metadata": {
        "colab": {
          "base_uri": "https://localhost:8080/"
        },
        "id": "iHbupznJt-XC",
        "outputId": "d239f4cd-5bb4-4961-c1b9-6d263e148878"
      },
      "id": "iHbupznJt-XC",
      "execution_count": 16,
      "outputs": [
        {
          "output_type": "stream",
          "name": "stdout",
          "text": [
            "--------------------------------------------------\n",
            "Number of epoch: 5\n",
            "Learning rate: 0.01 -- Batch size: 16\n",
            "epoch 0 started\n",
            "epoch 0 accuracy 98.26%\n",
            "epoch 1 started\n",
            "epoch 1 accuracy 98.84%\n",
            "epoch 2 started\n",
            "epoch 2 accuracy 98.47%\n",
            "epoch 3 started\n",
            "epoch 3 accuracy 96.48%\n",
            "epoch 4 started\n",
            "epoch 4 accuracy 98.43%\n"
          ]
        }
      ]
    }
  ],
  "metadata": {
    "kernelspec": {
      "display_name": "Python 3 (ipykernel)",
      "language": "python",
      "name": "python3"
    },
    "language_info": {
      "codemirror_mode": {
        "name": "ipython",
        "version": 3
      },
      "file_extension": ".py",
      "mimetype": "text/x-python",
      "name": "python",
      "nbconvert_exporter": "python",
      "pygments_lexer": "ipython3",
      "version": "3.7.0"
    },
    "colab": {
      "provenance": [],
      "collapsed_sections": [
        "39b2cba7"
      ]
    },
    "widgets": {
      "application/vnd.jupyter.widget-state+json": {
        "73bc66249c2f4561ad3b053c0c01008e": {
          "model_module": "@jupyter-widgets/controls",
          "model_name": "HBoxModel",
          "model_module_version": "1.5.0",
          "state": {
            "_dom_classes": [],
            "_model_module": "@jupyter-widgets/controls",
            "_model_module_version": "1.5.0",
            "_model_name": "HBoxModel",
            "_view_count": null,
            "_view_module": "@jupyter-widgets/controls",
            "_view_module_version": "1.5.0",
            "_view_name": "HBoxView",
            "box_style": "",
            "children": [
              "IPY_MODEL_647bc72a576547e9856f062c753f407b",
              "IPY_MODEL_b1a6240cafc64b12b665218118b380b1",
              "IPY_MODEL_6b96b355733c4db298969275b3c2edbe"
            ],
            "layout": "IPY_MODEL_804eb50ba3944000835c851c54c087c5"
          }
        },
        "647bc72a576547e9856f062c753f407b": {
          "model_module": "@jupyter-widgets/controls",
          "model_name": "HTMLModel",
          "model_module_version": "1.5.0",
          "state": {
            "_dom_classes": [],
            "_model_module": "@jupyter-widgets/controls",
            "_model_module_version": "1.5.0",
            "_model_name": "HTMLModel",
            "_view_count": null,
            "_view_module": "@jupyter-widgets/controls",
            "_view_module_version": "1.5.0",
            "_view_name": "HTMLView",
            "description": "",
            "description_tooltip": null,
            "layout": "IPY_MODEL_d68927c4ba3f45a1b5979b6a72f1bae4",
            "placeholder": "​",
            "style": "IPY_MODEL_931e5e442b67432cb0f2897656a7b961",
            "value": "100%"
          }
        },
        "b1a6240cafc64b12b665218118b380b1": {
          "model_module": "@jupyter-widgets/controls",
          "model_name": "FloatProgressModel",
          "model_module_version": "1.5.0",
          "state": {
            "_dom_classes": [],
            "_model_module": "@jupyter-widgets/controls",
            "_model_module_version": "1.5.0",
            "_model_name": "FloatProgressModel",
            "_view_count": null,
            "_view_module": "@jupyter-widgets/controls",
            "_view_module_version": "1.5.0",
            "_view_name": "ProgressView",
            "bar_style": "success",
            "description": "",
            "description_tooltip": null,
            "layout": "IPY_MODEL_ea24bb5f7bf74bc1938fa85066d378cd",
            "max": 9912422,
            "min": 0,
            "orientation": "horizontal",
            "style": "IPY_MODEL_4926dba10f304e96b4e60052a638b932",
            "value": 9912422
          }
        },
        "6b96b355733c4db298969275b3c2edbe": {
          "model_module": "@jupyter-widgets/controls",
          "model_name": "HTMLModel",
          "model_module_version": "1.5.0",
          "state": {
            "_dom_classes": [],
            "_model_module": "@jupyter-widgets/controls",
            "_model_module_version": "1.5.0",
            "_model_name": "HTMLModel",
            "_view_count": null,
            "_view_module": "@jupyter-widgets/controls",
            "_view_module_version": "1.5.0",
            "_view_name": "HTMLView",
            "description": "",
            "description_tooltip": null,
            "layout": "IPY_MODEL_e9b1e2d4eadc47d7b9443a417934b6d1",
            "placeholder": "​",
            "style": "IPY_MODEL_fcec583cb23540e7becdeeeed3621f4f",
            "value": " 9912422/9912422 [00:00&lt;00:00, 59785168.20it/s]"
          }
        },
        "804eb50ba3944000835c851c54c087c5": {
          "model_module": "@jupyter-widgets/base",
          "model_name": "LayoutModel",
          "model_module_version": "1.2.0",
          "state": {
            "_model_module": "@jupyter-widgets/base",
            "_model_module_version": "1.2.0",
            "_model_name": "LayoutModel",
            "_view_count": null,
            "_view_module": "@jupyter-widgets/base",
            "_view_module_version": "1.2.0",
            "_view_name": "LayoutView",
            "align_content": null,
            "align_items": null,
            "align_self": null,
            "border": null,
            "bottom": null,
            "display": null,
            "flex": null,
            "flex_flow": null,
            "grid_area": null,
            "grid_auto_columns": null,
            "grid_auto_flow": null,
            "grid_auto_rows": null,
            "grid_column": null,
            "grid_gap": null,
            "grid_row": null,
            "grid_template_areas": null,
            "grid_template_columns": null,
            "grid_template_rows": null,
            "height": null,
            "justify_content": null,
            "justify_items": null,
            "left": null,
            "margin": null,
            "max_height": null,
            "max_width": null,
            "min_height": null,
            "min_width": null,
            "object_fit": null,
            "object_position": null,
            "order": null,
            "overflow": null,
            "overflow_x": null,
            "overflow_y": null,
            "padding": null,
            "right": null,
            "top": null,
            "visibility": null,
            "width": null
          }
        },
        "d68927c4ba3f45a1b5979b6a72f1bae4": {
          "model_module": "@jupyter-widgets/base",
          "model_name": "LayoutModel",
          "model_module_version": "1.2.0",
          "state": {
            "_model_module": "@jupyter-widgets/base",
            "_model_module_version": "1.2.0",
            "_model_name": "LayoutModel",
            "_view_count": null,
            "_view_module": "@jupyter-widgets/base",
            "_view_module_version": "1.2.0",
            "_view_name": "LayoutView",
            "align_content": null,
            "align_items": null,
            "align_self": null,
            "border": null,
            "bottom": null,
            "display": null,
            "flex": null,
            "flex_flow": null,
            "grid_area": null,
            "grid_auto_columns": null,
            "grid_auto_flow": null,
            "grid_auto_rows": null,
            "grid_column": null,
            "grid_gap": null,
            "grid_row": null,
            "grid_template_areas": null,
            "grid_template_columns": null,
            "grid_template_rows": null,
            "height": null,
            "justify_content": null,
            "justify_items": null,
            "left": null,
            "margin": null,
            "max_height": null,
            "max_width": null,
            "min_height": null,
            "min_width": null,
            "object_fit": null,
            "object_position": null,
            "order": null,
            "overflow": null,
            "overflow_x": null,
            "overflow_y": null,
            "padding": null,
            "right": null,
            "top": null,
            "visibility": null,
            "width": null
          }
        },
        "931e5e442b67432cb0f2897656a7b961": {
          "model_module": "@jupyter-widgets/controls",
          "model_name": "DescriptionStyleModel",
          "model_module_version": "1.5.0",
          "state": {
            "_model_module": "@jupyter-widgets/controls",
            "_model_module_version": "1.5.0",
            "_model_name": "DescriptionStyleModel",
            "_view_count": null,
            "_view_module": "@jupyter-widgets/base",
            "_view_module_version": "1.2.0",
            "_view_name": "StyleView",
            "description_width": ""
          }
        },
        "ea24bb5f7bf74bc1938fa85066d378cd": {
          "model_module": "@jupyter-widgets/base",
          "model_name": "LayoutModel",
          "model_module_version": "1.2.0",
          "state": {
            "_model_module": "@jupyter-widgets/base",
            "_model_module_version": "1.2.0",
            "_model_name": "LayoutModel",
            "_view_count": null,
            "_view_module": "@jupyter-widgets/base",
            "_view_module_version": "1.2.0",
            "_view_name": "LayoutView",
            "align_content": null,
            "align_items": null,
            "align_self": null,
            "border": null,
            "bottom": null,
            "display": null,
            "flex": null,
            "flex_flow": null,
            "grid_area": null,
            "grid_auto_columns": null,
            "grid_auto_flow": null,
            "grid_auto_rows": null,
            "grid_column": null,
            "grid_gap": null,
            "grid_row": null,
            "grid_template_areas": null,
            "grid_template_columns": null,
            "grid_template_rows": null,
            "height": null,
            "justify_content": null,
            "justify_items": null,
            "left": null,
            "margin": null,
            "max_height": null,
            "max_width": null,
            "min_height": null,
            "min_width": null,
            "object_fit": null,
            "object_position": null,
            "order": null,
            "overflow": null,
            "overflow_x": null,
            "overflow_y": null,
            "padding": null,
            "right": null,
            "top": null,
            "visibility": null,
            "width": null
          }
        },
        "4926dba10f304e96b4e60052a638b932": {
          "model_module": "@jupyter-widgets/controls",
          "model_name": "ProgressStyleModel",
          "model_module_version": "1.5.0",
          "state": {
            "_model_module": "@jupyter-widgets/controls",
            "_model_module_version": "1.5.0",
            "_model_name": "ProgressStyleModel",
            "_view_count": null,
            "_view_module": "@jupyter-widgets/base",
            "_view_module_version": "1.2.0",
            "_view_name": "StyleView",
            "bar_color": null,
            "description_width": ""
          }
        },
        "e9b1e2d4eadc47d7b9443a417934b6d1": {
          "model_module": "@jupyter-widgets/base",
          "model_name": "LayoutModel",
          "model_module_version": "1.2.0",
          "state": {
            "_model_module": "@jupyter-widgets/base",
            "_model_module_version": "1.2.0",
            "_model_name": "LayoutModel",
            "_view_count": null,
            "_view_module": "@jupyter-widgets/base",
            "_view_module_version": "1.2.0",
            "_view_name": "LayoutView",
            "align_content": null,
            "align_items": null,
            "align_self": null,
            "border": null,
            "bottom": null,
            "display": null,
            "flex": null,
            "flex_flow": null,
            "grid_area": null,
            "grid_auto_columns": null,
            "grid_auto_flow": null,
            "grid_auto_rows": null,
            "grid_column": null,
            "grid_gap": null,
            "grid_row": null,
            "grid_template_areas": null,
            "grid_template_columns": null,
            "grid_template_rows": null,
            "height": null,
            "justify_content": null,
            "justify_items": null,
            "left": null,
            "margin": null,
            "max_height": null,
            "max_width": null,
            "min_height": null,
            "min_width": null,
            "object_fit": null,
            "object_position": null,
            "order": null,
            "overflow": null,
            "overflow_x": null,
            "overflow_y": null,
            "padding": null,
            "right": null,
            "top": null,
            "visibility": null,
            "width": null
          }
        },
        "fcec583cb23540e7becdeeeed3621f4f": {
          "model_module": "@jupyter-widgets/controls",
          "model_name": "DescriptionStyleModel",
          "model_module_version": "1.5.0",
          "state": {
            "_model_module": "@jupyter-widgets/controls",
            "_model_module_version": "1.5.0",
            "_model_name": "DescriptionStyleModel",
            "_view_count": null,
            "_view_module": "@jupyter-widgets/base",
            "_view_module_version": "1.2.0",
            "_view_name": "StyleView",
            "description_width": ""
          }
        },
        "aa531cf61e7445ab96f5ea6c55268b11": {
          "model_module": "@jupyter-widgets/controls",
          "model_name": "HBoxModel",
          "model_module_version": "1.5.0",
          "state": {
            "_dom_classes": [],
            "_model_module": "@jupyter-widgets/controls",
            "_model_module_version": "1.5.0",
            "_model_name": "HBoxModel",
            "_view_count": null,
            "_view_module": "@jupyter-widgets/controls",
            "_view_module_version": "1.5.0",
            "_view_name": "HBoxView",
            "box_style": "",
            "children": [
              "IPY_MODEL_b557c547e8a14574aec35992f45345ee",
              "IPY_MODEL_abaeccc9e35c4fa99493b682683815bb",
              "IPY_MODEL_30e10780ea2c4aa18c7fc88c339e6d76"
            ],
            "layout": "IPY_MODEL_f7aab954d19145b290ca226baaf0cd44"
          }
        },
        "b557c547e8a14574aec35992f45345ee": {
          "model_module": "@jupyter-widgets/controls",
          "model_name": "HTMLModel",
          "model_module_version": "1.5.0",
          "state": {
            "_dom_classes": [],
            "_model_module": "@jupyter-widgets/controls",
            "_model_module_version": "1.5.0",
            "_model_name": "HTMLModel",
            "_view_count": null,
            "_view_module": "@jupyter-widgets/controls",
            "_view_module_version": "1.5.0",
            "_view_name": "HTMLView",
            "description": "",
            "description_tooltip": null,
            "layout": "IPY_MODEL_3baa4d108b314904a7636936cb32590e",
            "placeholder": "​",
            "style": "IPY_MODEL_53da1f11a6ef4add97b695f4649bd045",
            "value": "100%"
          }
        },
        "abaeccc9e35c4fa99493b682683815bb": {
          "model_module": "@jupyter-widgets/controls",
          "model_name": "FloatProgressModel",
          "model_module_version": "1.5.0",
          "state": {
            "_dom_classes": [],
            "_model_module": "@jupyter-widgets/controls",
            "_model_module_version": "1.5.0",
            "_model_name": "FloatProgressModel",
            "_view_count": null,
            "_view_module": "@jupyter-widgets/controls",
            "_view_module_version": "1.5.0",
            "_view_name": "ProgressView",
            "bar_style": "success",
            "description": "",
            "description_tooltip": null,
            "layout": "IPY_MODEL_da57a2b937e346549e8b1dfd9a65a70c",
            "max": 28881,
            "min": 0,
            "orientation": "horizontal",
            "style": "IPY_MODEL_921e0cae239c4e6abb81f578087a3082",
            "value": 28881
          }
        },
        "30e10780ea2c4aa18c7fc88c339e6d76": {
          "model_module": "@jupyter-widgets/controls",
          "model_name": "HTMLModel",
          "model_module_version": "1.5.0",
          "state": {
            "_dom_classes": [],
            "_model_module": "@jupyter-widgets/controls",
            "_model_module_version": "1.5.0",
            "_model_name": "HTMLModel",
            "_view_count": null,
            "_view_module": "@jupyter-widgets/controls",
            "_view_module_version": "1.5.0",
            "_view_name": "HTMLView",
            "description": "",
            "description_tooltip": null,
            "layout": "IPY_MODEL_de54260515d4434ca897b041c5113d60",
            "placeholder": "​",
            "style": "IPY_MODEL_95e5e0becea04b82987413847ff7f877",
            "value": " 28881/28881 [00:00&lt;00:00, 819198.45it/s]"
          }
        },
        "f7aab954d19145b290ca226baaf0cd44": {
          "model_module": "@jupyter-widgets/base",
          "model_name": "LayoutModel",
          "model_module_version": "1.2.0",
          "state": {
            "_model_module": "@jupyter-widgets/base",
            "_model_module_version": "1.2.0",
            "_model_name": "LayoutModel",
            "_view_count": null,
            "_view_module": "@jupyter-widgets/base",
            "_view_module_version": "1.2.0",
            "_view_name": "LayoutView",
            "align_content": null,
            "align_items": null,
            "align_self": null,
            "border": null,
            "bottom": null,
            "display": null,
            "flex": null,
            "flex_flow": null,
            "grid_area": null,
            "grid_auto_columns": null,
            "grid_auto_flow": null,
            "grid_auto_rows": null,
            "grid_column": null,
            "grid_gap": null,
            "grid_row": null,
            "grid_template_areas": null,
            "grid_template_columns": null,
            "grid_template_rows": null,
            "height": null,
            "justify_content": null,
            "justify_items": null,
            "left": null,
            "margin": null,
            "max_height": null,
            "max_width": null,
            "min_height": null,
            "min_width": null,
            "object_fit": null,
            "object_position": null,
            "order": null,
            "overflow": null,
            "overflow_x": null,
            "overflow_y": null,
            "padding": null,
            "right": null,
            "top": null,
            "visibility": null,
            "width": null
          }
        },
        "3baa4d108b314904a7636936cb32590e": {
          "model_module": "@jupyter-widgets/base",
          "model_name": "LayoutModel",
          "model_module_version": "1.2.0",
          "state": {
            "_model_module": "@jupyter-widgets/base",
            "_model_module_version": "1.2.0",
            "_model_name": "LayoutModel",
            "_view_count": null,
            "_view_module": "@jupyter-widgets/base",
            "_view_module_version": "1.2.0",
            "_view_name": "LayoutView",
            "align_content": null,
            "align_items": null,
            "align_self": null,
            "border": null,
            "bottom": null,
            "display": null,
            "flex": null,
            "flex_flow": null,
            "grid_area": null,
            "grid_auto_columns": null,
            "grid_auto_flow": null,
            "grid_auto_rows": null,
            "grid_column": null,
            "grid_gap": null,
            "grid_row": null,
            "grid_template_areas": null,
            "grid_template_columns": null,
            "grid_template_rows": null,
            "height": null,
            "justify_content": null,
            "justify_items": null,
            "left": null,
            "margin": null,
            "max_height": null,
            "max_width": null,
            "min_height": null,
            "min_width": null,
            "object_fit": null,
            "object_position": null,
            "order": null,
            "overflow": null,
            "overflow_x": null,
            "overflow_y": null,
            "padding": null,
            "right": null,
            "top": null,
            "visibility": null,
            "width": null
          }
        },
        "53da1f11a6ef4add97b695f4649bd045": {
          "model_module": "@jupyter-widgets/controls",
          "model_name": "DescriptionStyleModel",
          "model_module_version": "1.5.0",
          "state": {
            "_model_module": "@jupyter-widgets/controls",
            "_model_module_version": "1.5.0",
            "_model_name": "DescriptionStyleModel",
            "_view_count": null,
            "_view_module": "@jupyter-widgets/base",
            "_view_module_version": "1.2.0",
            "_view_name": "StyleView",
            "description_width": ""
          }
        },
        "da57a2b937e346549e8b1dfd9a65a70c": {
          "model_module": "@jupyter-widgets/base",
          "model_name": "LayoutModel",
          "model_module_version": "1.2.0",
          "state": {
            "_model_module": "@jupyter-widgets/base",
            "_model_module_version": "1.2.0",
            "_model_name": "LayoutModel",
            "_view_count": null,
            "_view_module": "@jupyter-widgets/base",
            "_view_module_version": "1.2.0",
            "_view_name": "LayoutView",
            "align_content": null,
            "align_items": null,
            "align_self": null,
            "border": null,
            "bottom": null,
            "display": null,
            "flex": null,
            "flex_flow": null,
            "grid_area": null,
            "grid_auto_columns": null,
            "grid_auto_flow": null,
            "grid_auto_rows": null,
            "grid_column": null,
            "grid_gap": null,
            "grid_row": null,
            "grid_template_areas": null,
            "grid_template_columns": null,
            "grid_template_rows": null,
            "height": null,
            "justify_content": null,
            "justify_items": null,
            "left": null,
            "margin": null,
            "max_height": null,
            "max_width": null,
            "min_height": null,
            "min_width": null,
            "object_fit": null,
            "object_position": null,
            "order": null,
            "overflow": null,
            "overflow_x": null,
            "overflow_y": null,
            "padding": null,
            "right": null,
            "top": null,
            "visibility": null,
            "width": null
          }
        },
        "921e0cae239c4e6abb81f578087a3082": {
          "model_module": "@jupyter-widgets/controls",
          "model_name": "ProgressStyleModel",
          "model_module_version": "1.5.0",
          "state": {
            "_model_module": "@jupyter-widgets/controls",
            "_model_module_version": "1.5.0",
            "_model_name": "ProgressStyleModel",
            "_view_count": null,
            "_view_module": "@jupyter-widgets/base",
            "_view_module_version": "1.2.0",
            "_view_name": "StyleView",
            "bar_color": null,
            "description_width": ""
          }
        },
        "de54260515d4434ca897b041c5113d60": {
          "model_module": "@jupyter-widgets/base",
          "model_name": "LayoutModel",
          "model_module_version": "1.2.0",
          "state": {
            "_model_module": "@jupyter-widgets/base",
            "_model_module_version": "1.2.0",
            "_model_name": "LayoutModel",
            "_view_count": null,
            "_view_module": "@jupyter-widgets/base",
            "_view_module_version": "1.2.0",
            "_view_name": "LayoutView",
            "align_content": null,
            "align_items": null,
            "align_self": null,
            "border": null,
            "bottom": null,
            "display": null,
            "flex": null,
            "flex_flow": null,
            "grid_area": null,
            "grid_auto_columns": null,
            "grid_auto_flow": null,
            "grid_auto_rows": null,
            "grid_column": null,
            "grid_gap": null,
            "grid_row": null,
            "grid_template_areas": null,
            "grid_template_columns": null,
            "grid_template_rows": null,
            "height": null,
            "justify_content": null,
            "justify_items": null,
            "left": null,
            "margin": null,
            "max_height": null,
            "max_width": null,
            "min_height": null,
            "min_width": null,
            "object_fit": null,
            "object_position": null,
            "order": null,
            "overflow": null,
            "overflow_x": null,
            "overflow_y": null,
            "padding": null,
            "right": null,
            "top": null,
            "visibility": null,
            "width": null
          }
        },
        "95e5e0becea04b82987413847ff7f877": {
          "model_module": "@jupyter-widgets/controls",
          "model_name": "DescriptionStyleModel",
          "model_module_version": "1.5.0",
          "state": {
            "_model_module": "@jupyter-widgets/controls",
            "_model_module_version": "1.5.0",
            "_model_name": "DescriptionStyleModel",
            "_view_count": null,
            "_view_module": "@jupyter-widgets/base",
            "_view_module_version": "1.2.0",
            "_view_name": "StyleView",
            "description_width": ""
          }
        },
        "45b4f3abd4604bcca55f5931b91e39b3": {
          "model_module": "@jupyter-widgets/controls",
          "model_name": "HBoxModel",
          "model_module_version": "1.5.0",
          "state": {
            "_dom_classes": [],
            "_model_module": "@jupyter-widgets/controls",
            "_model_module_version": "1.5.0",
            "_model_name": "HBoxModel",
            "_view_count": null,
            "_view_module": "@jupyter-widgets/controls",
            "_view_module_version": "1.5.0",
            "_view_name": "HBoxView",
            "box_style": "",
            "children": [
              "IPY_MODEL_f05e218c8d73470bba1b9e04fb6ad166",
              "IPY_MODEL_77c004452670459c993c8dddec2ac89c",
              "IPY_MODEL_c2717efa8159454083b0b9e63f47a467"
            ],
            "layout": "IPY_MODEL_badd5491f5154820858eab4c47f540b2"
          }
        },
        "f05e218c8d73470bba1b9e04fb6ad166": {
          "model_module": "@jupyter-widgets/controls",
          "model_name": "HTMLModel",
          "model_module_version": "1.5.0",
          "state": {
            "_dom_classes": [],
            "_model_module": "@jupyter-widgets/controls",
            "_model_module_version": "1.5.0",
            "_model_name": "HTMLModel",
            "_view_count": null,
            "_view_module": "@jupyter-widgets/controls",
            "_view_module_version": "1.5.0",
            "_view_name": "HTMLView",
            "description": "",
            "description_tooltip": null,
            "layout": "IPY_MODEL_4e54e1d9bc6c4c0a9c3fc9b874c15e7d",
            "placeholder": "​",
            "style": "IPY_MODEL_2f8a8b8d1173457481660e333447652f",
            "value": "100%"
          }
        },
        "77c004452670459c993c8dddec2ac89c": {
          "model_module": "@jupyter-widgets/controls",
          "model_name": "FloatProgressModel",
          "model_module_version": "1.5.0",
          "state": {
            "_dom_classes": [],
            "_model_module": "@jupyter-widgets/controls",
            "_model_module_version": "1.5.0",
            "_model_name": "FloatProgressModel",
            "_view_count": null,
            "_view_module": "@jupyter-widgets/controls",
            "_view_module_version": "1.5.0",
            "_view_name": "ProgressView",
            "bar_style": "success",
            "description": "",
            "description_tooltip": null,
            "layout": "IPY_MODEL_9cfa1f48a3594a9b8869361b61f54bec",
            "max": 1648877,
            "min": 0,
            "orientation": "horizontal",
            "style": "IPY_MODEL_cf6765e850f54864afd37e19f541695c",
            "value": 1648877
          }
        },
        "c2717efa8159454083b0b9e63f47a467": {
          "model_module": "@jupyter-widgets/controls",
          "model_name": "HTMLModel",
          "model_module_version": "1.5.0",
          "state": {
            "_dom_classes": [],
            "_model_module": "@jupyter-widgets/controls",
            "_model_module_version": "1.5.0",
            "_model_name": "HTMLModel",
            "_view_count": null,
            "_view_module": "@jupyter-widgets/controls",
            "_view_module_version": "1.5.0",
            "_view_name": "HTMLView",
            "description": "",
            "description_tooltip": null,
            "layout": "IPY_MODEL_17b49bf7cd6d4f599df15f965acd88a4",
            "placeholder": "​",
            "style": "IPY_MODEL_f354c1d357eb4dbc9af3ab65304f248f",
            "value": " 1648877/1648877 [00:00&lt;00:00, 29721097.74it/s]"
          }
        },
        "badd5491f5154820858eab4c47f540b2": {
          "model_module": "@jupyter-widgets/base",
          "model_name": "LayoutModel",
          "model_module_version": "1.2.0",
          "state": {
            "_model_module": "@jupyter-widgets/base",
            "_model_module_version": "1.2.0",
            "_model_name": "LayoutModel",
            "_view_count": null,
            "_view_module": "@jupyter-widgets/base",
            "_view_module_version": "1.2.0",
            "_view_name": "LayoutView",
            "align_content": null,
            "align_items": null,
            "align_self": null,
            "border": null,
            "bottom": null,
            "display": null,
            "flex": null,
            "flex_flow": null,
            "grid_area": null,
            "grid_auto_columns": null,
            "grid_auto_flow": null,
            "grid_auto_rows": null,
            "grid_column": null,
            "grid_gap": null,
            "grid_row": null,
            "grid_template_areas": null,
            "grid_template_columns": null,
            "grid_template_rows": null,
            "height": null,
            "justify_content": null,
            "justify_items": null,
            "left": null,
            "margin": null,
            "max_height": null,
            "max_width": null,
            "min_height": null,
            "min_width": null,
            "object_fit": null,
            "object_position": null,
            "order": null,
            "overflow": null,
            "overflow_x": null,
            "overflow_y": null,
            "padding": null,
            "right": null,
            "top": null,
            "visibility": null,
            "width": null
          }
        },
        "4e54e1d9bc6c4c0a9c3fc9b874c15e7d": {
          "model_module": "@jupyter-widgets/base",
          "model_name": "LayoutModel",
          "model_module_version": "1.2.0",
          "state": {
            "_model_module": "@jupyter-widgets/base",
            "_model_module_version": "1.2.0",
            "_model_name": "LayoutModel",
            "_view_count": null,
            "_view_module": "@jupyter-widgets/base",
            "_view_module_version": "1.2.0",
            "_view_name": "LayoutView",
            "align_content": null,
            "align_items": null,
            "align_self": null,
            "border": null,
            "bottom": null,
            "display": null,
            "flex": null,
            "flex_flow": null,
            "grid_area": null,
            "grid_auto_columns": null,
            "grid_auto_flow": null,
            "grid_auto_rows": null,
            "grid_column": null,
            "grid_gap": null,
            "grid_row": null,
            "grid_template_areas": null,
            "grid_template_columns": null,
            "grid_template_rows": null,
            "height": null,
            "justify_content": null,
            "justify_items": null,
            "left": null,
            "margin": null,
            "max_height": null,
            "max_width": null,
            "min_height": null,
            "min_width": null,
            "object_fit": null,
            "object_position": null,
            "order": null,
            "overflow": null,
            "overflow_x": null,
            "overflow_y": null,
            "padding": null,
            "right": null,
            "top": null,
            "visibility": null,
            "width": null
          }
        },
        "2f8a8b8d1173457481660e333447652f": {
          "model_module": "@jupyter-widgets/controls",
          "model_name": "DescriptionStyleModel",
          "model_module_version": "1.5.0",
          "state": {
            "_model_module": "@jupyter-widgets/controls",
            "_model_module_version": "1.5.0",
            "_model_name": "DescriptionStyleModel",
            "_view_count": null,
            "_view_module": "@jupyter-widgets/base",
            "_view_module_version": "1.2.0",
            "_view_name": "StyleView",
            "description_width": ""
          }
        },
        "9cfa1f48a3594a9b8869361b61f54bec": {
          "model_module": "@jupyter-widgets/base",
          "model_name": "LayoutModel",
          "model_module_version": "1.2.0",
          "state": {
            "_model_module": "@jupyter-widgets/base",
            "_model_module_version": "1.2.0",
            "_model_name": "LayoutModel",
            "_view_count": null,
            "_view_module": "@jupyter-widgets/base",
            "_view_module_version": "1.2.0",
            "_view_name": "LayoutView",
            "align_content": null,
            "align_items": null,
            "align_self": null,
            "border": null,
            "bottom": null,
            "display": null,
            "flex": null,
            "flex_flow": null,
            "grid_area": null,
            "grid_auto_columns": null,
            "grid_auto_flow": null,
            "grid_auto_rows": null,
            "grid_column": null,
            "grid_gap": null,
            "grid_row": null,
            "grid_template_areas": null,
            "grid_template_columns": null,
            "grid_template_rows": null,
            "height": null,
            "justify_content": null,
            "justify_items": null,
            "left": null,
            "margin": null,
            "max_height": null,
            "max_width": null,
            "min_height": null,
            "min_width": null,
            "object_fit": null,
            "object_position": null,
            "order": null,
            "overflow": null,
            "overflow_x": null,
            "overflow_y": null,
            "padding": null,
            "right": null,
            "top": null,
            "visibility": null,
            "width": null
          }
        },
        "cf6765e850f54864afd37e19f541695c": {
          "model_module": "@jupyter-widgets/controls",
          "model_name": "ProgressStyleModel",
          "model_module_version": "1.5.0",
          "state": {
            "_model_module": "@jupyter-widgets/controls",
            "_model_module_version": "1.5.0",
            "_model_name": "ProgressStyleModel",
            "_view_count": null,
            "_view_module": "@jupyter-widgets/base",
            "_view_module_version": "1.2.0",
            "_view_name": "StyleView",
            "bar_color": null,
            "description_width": ""
          }
        },
        "17b49bf7cd6d4f599df15f965acd88a4": {
          "model_module": "@jupyter-widgets/base",
          "model_name": "LayoutModel",
          "model_module_version": "1.2.0",
          "state": {
            "_model_module": "@jupyter-widgets/base",
            "_model_module_version": "1.2.0",
            "_model_name": "LayoutModel",
            "_view_count": null,
            "_view_module": "@jupyter-widgets/base",
            "_view_module_version": "1.2.0",
            "_view_name": "LayoutView",
            "align_content": null,
            "align_items": null,
            "align_self": null,
            "border": null,
            "bottom": null,
            "display": null,
            "flex": null,
            "flex_flow": null,
            "grid_area": null,
            "grid_auto_columns": null,
            "grid_auto_flow": null,
            "grid_auto_rows": null,
            "grid_column": null,
            "grid_gap": null,
            "grid_row": null,
            "grid_template_areas": null,
            "grid_template_columns": null,
            "grid_template_rows": null,
            "height": null,
            "justify_content": null,
            "justify_items": null,
            "left": null,
            "margin": null,
            "max_height": null,
            "max_width": null,
            "min_height": null,
            "min_width": null,
            "object_fit": null,
            "object_position": null,
            "order": null,
            "overflow": null,
            "overflow_x": null,
            "overflow_y": null,
            "padding": null,
            "right": null,
            "top": null,
            "visibility": null,
            "width": null
          }
        },
        "f354c1d357eb4dbc9af3ab65304f248f": {
          "model_module": "@jupyter-widgets/controls",
          "model_name": "DescriptionStyleModel",
          "model_module_version": "1.5.0",
          "state": {
            "_model_module": "@jupyter-widgets/controls",
            "_model_module_version": "1.5.0",
            "_model_name": "DescriptionStyleModel",
            "_view_count": null,
            "_view_module": "@jupyter-widgets/base",
            "_view_module_version": "1.2.0",
            "_view_name": "StyleView",
            "description_width": ""
          }
        },
        "97150a135372441e82f3d98bd781559a": {
          "model_module": "@jupyter-widgets/controls",
          "model_name": "HBoxModel",
          "model_module_version": "1.5.0",
          "state": {
            "_dom_classes": [],
            "_model_module": "@jupyter-widgets/controls",
            "_model_module_version": "1.5.0",
            "_model_name": "HBoxModel",
            "_view_count": null,
            "_view_module": "@jupyter-widgets/controls",
            "_view_module_version": "1.5.0",
            "_view_name": "HBoxView",
            "box_style": "",
            "children": [
              "IPY_MODEL_24ebd64e6b004ca085677ebfff9d1e7e",
              "IPY_MODEL_ed7fb90466524a61bc0ea07ce7c521c7",
              "IPY_MODEL_70caf2d3ee0245e0b166eefd9f2ea625"
            ],
            "layout": "IPY_MODEL_8774eff0dc674e239522747e3af6bd62"
          }
        },
        "24ebd64e6b004ca085677ebfff9d1e7e": {
          "model_module": "@jupyter-widgets/controls",
          "model_name": "HTMLModel",
          "model_module_version": "1.5.0",
          "state": {
            "_dom_classes": [],
            "_model_module": "@jupyter-widgets/controls",
            "_model_module_version": "1.5.0",
            "_model_name": "HTMLModel",
            "_view_count": null,
            "_view_module": "@jupyter-widgets/controls",
            "_view_module_version": "1.5.0",
            "_view_name": "HTMLView",
            "description": "",
            "description_tooltip": null,
            "layout": "IPY_MODEL_9998038429db460a8dddf0a98c58fd17",
            "placeholder": "​",
            "style": "IPY_MODEL_0566a3b0b61d4912ab678b604164db27",
            "value": "100%"
          }
        },
        "ed7fb90466524a61bc0ea07ce7c521c7": {
          "model_module": "@jupyter-widgets/controls",
          "model_name": "FloatProgressModel",
          "model_module_version": "1.5.0",
          "state": {
            "_dom_classes": [],
            "_model_module": "@jupyter-widgets/controls",
            "_model_module_version": "1.5.0",
            "_model_name": "FloatProgressModel",
            "_view_count": null,
            "_view_module": "@jupyter-widgets/controls",
            "_view_module_version": "1.5.0",
            "_view_name": "ProgressView",
            "bar_style": "success",
            "description": "",
            "description_tooltip": null,
            "layout": "IPY_MODEL_72de09159a084424bb0b44b9658fd854",
            "max": 4542,
            "min": 0,
            "orientation": "horizontal",
            "style": "IPY_MODEL_085cc40e65c04725a7bafbab72ca58d6",
            "value": 4542
          }
        },
        "70caf2d3ee0245e0b166eefd9f2ea625": {
          "model_module": "@jupyter-widgets/controls",
          "model_name": "HTMLModel",
          "model_module_version": "1.5.0",
          "state": {
            "_dom_classes": [],
            "_model_module": "@jupyter-widgets/controls",
            "_model_module_version": "1.5.0",
            "_model_name": "HTMLModel",
            "_view_count": null,
            "_view_module": "@jupyter-widgets/controls",
            "_view_module_version": "1.5.0",
            "_view_name": "HTMLView",
            "description": "",
            "description_tooltip": null,
            "layout": "IPY_MODEL_2af30a70452f4466a1401260445f3ebe",
            "placeholder": "​",
            "style": "IPY_MODEL_3b85b71ef1994641a52e91f73949f20d",
            "value": " 4542/4542 [00:00&lt;00:00, 145726.46it/s]"
          }
        },
        "8774eff0dc674e239522747e3af6bd62": {
          "model_module": "@jupyter-widgets/base",
          "model_name": "LayoutModel",
          "model_module_version": "1.2.0",
          "state": {
            "_model_module": "@jupyter-widgets/base",
            "_model_module_version": "1.2.0",
            "_model_name": "LayoutModel",
            "_view_count": null,
            "_view_module": "@jupyter-widgets/base",
            "_view_module_version": "1.2.0",
            "_view_name": "LayoutView",
            "align_content": null,
            "align_items": null,
            "align_self": null,
            "border": null,
            "bottom": null,
            "display": null,
            "flex": null,
            "flex_flow": null,
            "grid_area": null,
            "grid_auto_columns": null,
            "grid_auto_flow": null,
            "grid_auto_rows": null,
            "grid_column": null,
            "grid_gap": null,
            "grid_row": null,
            "grid_template_areas": null,
            "grid_template_columns": null,
            "grid_template_rows": null,
            "height": null,
            "justify_content": null,
            "justify_items": null,
            "left": null,
            "margin": null,
            "max_height": null,
            "max_width": null,
            "min_height": null,
            "min_width": null,
            "object_fit": null,
            "object_position": null,
            "order": null,
            "overflow": null,
            "overflow_x": null,
            "overflow_y": null,
            "padding": null,
            "right": null,
            "top": null,
            "visibility": null,
            "width": null
          }
        },
        "9998038429db460a8dddf0a98c58fd17": {
          "model_module": "@jupyter-widgets/base",
          "model_name": "LayoutModel",
          "model_module_version": "1.2.0",
          "state": {
            "_model_module": "@jupyter-widgets/base",
            "_model_module_version": "1.2.0",
            "_model_name": "LayoutModel",
            "_view_count": null,
            "_view_module": "@jupyter-widgets/base",
            "_view_module_version": "1.2.0",
            "_view_name": "LayoutView",
            "align_content": null,
            "align_items": null,
            "align_self": null,
            "border": null,
            "bottom": null,
            "display": null,
            "flex": null,
            "flex_flow": null,
            "grid_area": null,
            "grid_auto_columns": null,
            "grid_auto_flow": null,
            "grid_auto_rows": null,
            "grid_column": null,
            "grid_gap": null,
            "grid_row": null,
            "grid_template_areas": null,
            "grid_template_columns": null,
            "grid_template_rows": null,
            "height": null,
            "justify_content": null,
            "justify_items": null,
            "left": null,
            "margin": null,
            "max_height": null,
            "max_width": null,
            "min_height": null,
            "min_width": null,
            "object_fit": null,
            "object_position": null,
            "order": null,
            "overflow": null,
            "overflow_x": null,
            "overflow_y": null,
            "padding": null,
            "right": null,
            "top": null,
            "visibility": null,
            "width": null
          }
        },
        "0566a3b0b61d4912ab678b604164db27": {
          "model_module": "@jupyter-widgets/controls",
          "model_name": "DescriptionStyleModel",
          "model_module_version": "1.5.0",
          "state": {
            "_model_module": "@jupyter-widgets/controls",
            "_model_module_version": "1.5.0",
            "_model_name": "DescriptionStyleModel",
            "_view_count": null,
            "_view_module": "@jupyter-widgets/base",
            "_view_module_version": "1.2.0",
            "_view_name": "StyleView",
            "description_width": ""
          }
        },
        "72de09159a084424bb0b44b9658fd854": {
          "model_module": "@jupyter-widgets/base",
          "model_name": "LayoutModel",
          "model_module_version": "1.2.0",
          "state": {
            "_model_module": "@jupyter-widgets/base",
            "_model_module_version": "1.2.0",
            "_model_name": "LayoutModel",
            "_view_count": null,
            "_view_module": "@jupyter-widgets/base",
            "_view_module_version": "1.2.0",
            "_view_name": "LayoutView",
            "align_content": null,
            "align_items": null,
            "align_self": null,
            "border": null,
            "bottom": null,
            "display": null,
            "flex": null,
            "flex_flow": null,
            "grid_area": null,
            "grid_auto_columns": null,
            "grid_auto_flow": null,
            "grid_auto_rows": null,
            "grid_column": null,
            "grid_gap": null,
            "grid_row": null,
            "grid_template_areas": null,
            "grid_template_columns": null,
            "grid_template_rows": null,
            "height": null,
            "justify_content": null,
            "justify_items": null,
            "left": null,
            "margin": null,
            "max_height": null,
            "max_width": null,
            "min_height": null,
            "min_width": null,
            "object_fit": null,
            "object_position": null,
            "order": null,
            "overflow": null,
            "overflow_x": null,
            "overflow_y": null,
            "padding": null,
            "right": null,
            "top": null,
            "visibility": null,
            "width": null
          }
        },
        "085cc40e65c04725a7bafbab72ca58d6": {
          "model_module": "@jupyter-widgets/controls",
          "model_name": "ProgressStyleModel",
          "model_module_version": "1.5.0",
          "state": {
            "_model_module": "@jupyter-widgets/controls",
            "_model_module_version": "1.5.0",
            "_model_name": "ProgressStyleModel",
            "_view_count": null,
            "_view_module": "@jupyter-widgets/base",
            "_view_module_version": "1.2.0",
            "_view_name": "StyleView",
            "bar_color": null,
            "description_width": ""
          }
        },
        "2af30a70452f4466a1401260445f3ebe": {
          "model_module": "@jupyter-widgets/base",
          "model_name": "LayoutModel",
          "model_module_version": "1.2.0",
          "state": {
            "_model_module": "@jupyter-widgets/base",
            "_model_module_version": "1.2.0",
            "_model_name": "LayoutModel",
            "_view_count": null,
            "_view_module": "@jupyter-widgets/base",
            "_view_module_version": "1.2.0",
            "_view_name": "LayoutView",
            "align_content": null,
            "align_items": null,
            "align_self": null,
            "border": null,
            "bottom": null,
            "display": null,
            "flex": null,
            "flex_flow": null,
            "grid_area": null,
            "grid_auto_columns": null,
            "grid_auto_flow": null,
            "grid_auto_rows": null,
            "grid_column": null,
            "grid_gap": null,
            "grid_row": null,
            "grid_template_areas": null,
            "grid_template_columns": null,
            "grid_template_rows": null,
            "height": null,
            "justify_content": null,
            "justify_items": null,
            "left": null,
            "margin": null,
            "max_height": null,
            "max_width": null,
            "min_height": null,
            "min_width": null,
            "object_fit": null,
            "object_position": null,
            "order": null,
            "overflow": null,
            "overflow_x": null,
            "overflow_y": null,
            "padding": null,
            "right": null,
            "top": null,
            "visibility": null,
            "width": null
          }
        },
        "3b85b71ef1994641a52e91f73949f20d": {
          "model_module": "@jupyter-widgets/controls",
          "model_name": "DescriptionStyleModel",
          "model_module_version": "1.5.0",
          "state": {
            "_model_module": "@jupyter-widgets/controls",
            "_model_module_version": "1.5.0",
            "_model_name": "DescriptionStyleModel",
            "_view_count": null,
            "_view_module": "@jupyter-widgets/base",
            "_view_module_version": "1.2.0",
            "_view_name": "StyleView",
            "description_width": ""
          }
        }
      }
    },
    "accelerator": "GPU"
  },
  "nbformat": 4,
  "nbformat_minor": 5
}